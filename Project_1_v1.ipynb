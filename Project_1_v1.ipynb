{
 "cells": [
  {
   "cell_type": "markdown",
   "id": "19b1feb1",
   "metadata": {},
   "source": [
    "### 0. Load & View Dataset"
   ]
  },
  {
   "cell_type": "code",
   "execution_count": 176,
   "id": "8642e600",
   "metadata": {},
   "outputs": [],
   "source": [
    "## Import libraries\n",
    "import pandas as pd"
   ]
  },
  {
   "cell_type": "code",
   "execution_count": 177,
   "id": "61accbf1",
   "metadata": {},
   "outputs": [],
   "source": [
    "## Load dataset\n",
    "df = pd.read_csv('./Project_1_dataset_01_01_2022.csv')"
   ]
  },
  {
   "cell_type": "code",
   "execution_count": 178,
   "id": "4c3ca070",
   "metadata": {},
   "outputs": [
    {
     "data": {
      "text/html": [
       "<div>\n",
       "<style scoped>\n",
       "    .dataframe tbody tr th:only-of-type {\n",
       "        vertical-align: middle;\n",
       "    }\n",
       "\n",
       "    .dataframe tbody tr th {\n",
       "        vertical-align: top;\n",
       "    }\n",
       "\n",
       "    .dataframe thead th {\n",
       "        text-align: right;\n",
       "    }\n",
       "</style>\n",
       "<table border=\"1\" class=\"dataframe\">\n",
       "  <thead>\n",
       "    <tr style=\"text-align: right;\">\n",
       "      <th></th>\n",
       "      <th>Unnamed: 0</th>\n",
       "      <th>full_text</th>\n",
       "      <th>summary</th>\n",
       "      <th>keywords</th>\n",
       "      <th>publish_date</th>\n",
       "      <th>authors</th>\n",
       "      <th>url</th>\n",
       "      <th>leaf_label</th>\n",
       "      <th>root_label</th>\n",
       "    </tr>\n",
       "  </thead>\n",
       "  <tbody>\n",
       "    <tr>\n",
       "      <th>0</th>\n",
       "      <td>590</td>\n",
       "      <td>Having made a massive impact in Saudi Arabia w...</td>\n",
       "      <td>Having made a massive impact in Saudi Arabia w...</td>\n",
       "      <td>['singhs', 'rooting', 'cool', 'saudi', 'style'...</td>\n",
       "      <td>NaN</td>\n",
       "      <td>[]</td>\n",
       "      <td>https://www.msn.com/en-in/entertainment/other/...</td>\n",
       "      <td>cricket</td>\n",
       "      <td>sports</td>\n",
       "    </tr>\n",
       "    <tr>\n",
       "      <th>1</th>\n",
       "      <td>388</td>\n",
       "      <td>Cricket is all about the emotional rollercoast...</td>\n",
       "      <td>No matter which team fans hope to win, every s...</td>\n",
       "      <td>['wants', 'fans', 'finals', 'cup', 'win', 'tou...</td>\n",
       "      <td>NaN</td>\n",
       "      <td>[]</td>\n",
       "      <td>https://www.prnewswire.com:443/news-releases/c...</td>\n",
       "      <td>cricket</td>\n",
       "      <td>sports</td>\n",
       "    </tr>\n",
       "    <tr>\n",
       "      <th>2</th>\n",
       "      <td>423</td>\n",
       "      <td>New Zealand announces back-to-back tours next ...</td>\n",
       "      <td>New Zealand announces back-to-back tours next ...</td>\n",
       "      <td>['test', 'west', 'tour', 'zealand', 'world', '...</td>\n",
       "      <td>2021-12-20 00:00:00</td>\n",
       "      <td>[]</td>\n",
       "      <td>https://www.aljazeera.com/news/2021/12/20/cric...</td>\n",
       "      <td>cricket</td>\n",
       "      <td>sports</td>\n",
       "    </tr>\n",
       "    <tr>\n",
       "      <th>3</th>\n",
       "      <td>563</td>\n",
       "      <td>It's not the first time cricket fans in the co...</td>\n",
       "      <td>Billed as one of the pre-tournament favourites...</td>\n",
       "      <td>['qualify', 'afghanistan', 'cup', 'world', 'ze...</td>\n",
       "      <td>NaN</td>\n",
       "      <td>[]</td>\n",
       "      <td>https://www.msn.com/en-in/news/other/t20-world...</td>\n",
       "      <td>cricket</td>\n",
       "      <td>sports</td>\n",
       "    </tr>\n",
       "    <tr>\n",
       "      <th>4</th>\n",
       "      <td>634</td>\n",
       "      <td>An employee works on a computer terminal again...</td>\n",
       "      <td>REUTERS/Sivaram VBENGALURU, Oct 11 (Reuters Br...</td>\n",
       "      <td>['success', 'tech', 'startup', 'talent', 'onli...</td>\n",
       "      <td>2021-10-11 00:00:00</td>\n",
       "      <td>['Una Galani']</td>\n",
       "      <td>https://www.reuters.com/breakingviews/india-in...</td>\n",
       "      <td>cricket</td>\n",
       "      <td>sports</td>\n",
       "    </tr>\n",
       "  </tbody>\n",
       "</table>\n",
       "</div>"
      ],
      "text/plain": [
       "   Unnamed: 0                                          full_text  \\\n",
       "0         590  Having made a massive impact in Saudi Arabia w...   \n",
       "1         388  Cricket is all about the emotional rollercoast...   \n",
       "2         423  New Zealand announces back-to-back tours next ...   \n",
       "3         563  It's not the first time cricket fans in the co...   \n",
       "4         634  An employee works on a computer terminal again...   \n",
       "\n",
       "                                             summary  \\\n",
       "0  Having made a massive impact in Saudi Arabia w...   \n",
       "1  No matter which team fans hope to win, every s...   \n",
       "2  New Zealand announces back-to-back tours next ...   \n",
       "3  Billed as one of the pre-tournament favourites...   \n",
       "4  REUTERS/Sivaram VBENGALURU, Oct 11 (Reuters Br...   \n",
       "\n",
       "                                            keywords         publish_date  \\\n",
       "0  ['singhs', 'rooting', 'cool', 'saudi', 'style'...                  NaN   \n",
       "1  ['wants', 'fans', 'finals', 'cup', 'win', 'tou...                  NaN   \n",
       "2  ['test', 'west', 'tour', 'zealand', 'world', '...  2021-12-20 00:00:00   \n",
       "3  ['qualify', 'afghanistan', 'cup', 'world', 'ze...                  NaN   \n",
       "4  ['success', 'tech', 'startup', 'talent', 'onli...  2021-10-11 00:00:00   \n",
       "\n",
       "          authors                                                url  \\\n",
       "0              []  https://www.msn.com/en-in/entertainment/other/...   \n",
       "1              []  https://www.prnewswire.com:443/news-releases/c...   \n",
       "2              []  https://www.aljazeera.com/news/2021/12/20/cric...   \n",
       "3              []  https://www.msn.com/en-in/news/other/t20-world...   \n",
       "4  ['Una Galani']  https://www.reuters.com/breakingviews/india-in...   \n",
       "\n",
       "  leaf_label root_label  \n",
       "0    cricket     sports  \n",
       "1    cricket     sports  \n",
       "2    cricket     sports  \n",
       "3    cricket     sports  \n",
       "4    cricket     sports  "
      ]
     },
     "execution_count": 178,
     "metadata": {},
     "output_type": "execute_result"
    }
   ],
   "source": [
    "df.head()"
   ]
  },
  {
   "cell_type": "code",
   "execution_count": 179,
   "id": "975be58d",
   "metadata": {},
   "outputs": [
    {
     "data": {
      "text/plain": [
       "(2072, 9)"
      ]
     },
     "execution_count": 179,
     "metadata": {},
     "output_type": "execute_result"
    }
   ],
   "source": [
    "df.shape"
   ]
  },
  {
   "cell_type": "markdown",
   "id": "35cbb955",
   "metadata": {},
   "source": [
    "Question 1: There are in total 2072 rows/samples. There are in total 9 columns, however the features describing the \n",
    "data are full_text, summary, keywords, publish_date, authors and url (6 in total). Leaf_label and root_label are the dependent variables or classes. Unamed: 0 is an index variable."
   ]
  },
  {
   "cell_type": "markdown",
   "id": "d4f94b43",
   "metadata": {},
   "source": [
    "#### 0.1 Plot histograms"
   ]
  },
  {
   "cell_type": "code",
   "execution_count": 180,
   "id": "e11259be",
   "metadata": {},
   "outputs": [],
   "source": [
    "## Import libraries\n",
    "import matplotlib.pyplot as plt\n",
    "%matplotlib inline"
   ]
  },
  {
   "cell_type": "code",
   "execution_count": null,
   "id": "8314e00d",
   "metadata": {},
   "outputs": [],
   "source": [
    "# what happens with infinite bins?"
   ]
  },
  {
   "cell_type": "code",
   "execution_count": 181,
   "id": "40b9f347",
   "metadata": {},
   "outputs": [],
   "source": [
    "df['count'] =  df['full_text'].apply(lambda x: sum(char.isalnum() for char in x))"
   ]
  },
  {
   "cell_type": "code",
   "execution_count": 182,
   "id": "9daf75f9",
   "metadata": {},
   "outputs": [],
   "source": [
    "## Sanity check - value of count should be in the range of length of string full_text\n",
    "# df['count'].value_counts\n",
    "\n",
    "## Sanity check - length of full_text for first row\n",
    "# len(df['full_text'][0])"
   ]
  },
  {
   "cell_type": "code",
   "execution_count": 183,
   "id": "675d979a",
   "metadata": {},
   "outputs": [],
   "source": [
    "# plt.hist(df['count'])\n",
    "# plt.show()"
   ]
  },
  {
   "cell_type": "code",
   "execution_count": 184,
   "id": "dd0fe0c2",
   "metadata": {},
   "outputs": [
    {
     "data": {
      "image/png": "[encoded data removed]",
      "text/plain": [
       "<Figure size 432x288 with 1 Axes>"
      ]
     },
     "metadata": {
      "needs_background": "light"
     },
     "output_type": "display_data"
    }
   ],
   "source": [
    "# Frequency plot for number of alpha-numeric characters in full_text\n",
    "plt.hist(df['count'], 30,\n",
    "         histtype='bar')\n",
    "\n",
    "plt.show()"
   ]
  },
  {
   "cell_type": "code",
   "execution_count": 185,
   "id": "9b338334",
   "metadata": {},
   "outputs": [
    {
     "data": {
      "image/png": "[encoded data removed]",
      "text/plain": [
       "<Figure size 432x288 with 1 Axes>"
      ]
     },
     "metadata": {
      "needs_background": "light"
     },
     "output_type": "display_data"
    }
   ],
   "source": [
    "plt.hist(df[df['count']<5000]['count'], 30,\n",
    "         histtype='bar')\n",
    "\n",
    "plt.show()"
   ]
  },
  {
   "cell_type": "code",
   "execution_count": 186,
   "id": "4ca25094",
   "metadata": {},
   "outputs": [],
   "source": [
    "## sanity check\n",
    "# df['leaf_label'].value_counts()"
   ]
  },
  {
   "cell_type": "code",
   "execution_count": 187,
   "id": "2c8b5cfe",
   "metadata": {},
   "outputs": [
    {
     "data": {
      "image/png": "[encoded data removed]",
      "text/plain": [
       "<Figure size 720x216 with 1 Axes>"
      ]
     },
     "metadata": {
      "needs_background": "light"
     },
     "output_type": "display_data"
    }
   ],
   "source": [
    "# Frequency plot for leaf_label\n",
    "\n",
    "plt.figure(figsize=(10,3))\n",
    "plt.hist(df['leaf_label'],\n",
    "        histtype='bar')\n",
    "plt.show()"
   ]
  },
  {
   "cell_type": "code",
   "execution_count": 188,
   "id": "dc22482c",
   "metadata": {},
   "outputs": [],
   "source": [
    "## sanity check\n",
    "# df['root_label'].value_counts()"
   ]
  },
  {
   "cell_type": "code",
   "execution_count": 189,
   "id": "d3fc3250",
   "metadata": {},
   "outputs": [
    {
     "data": {
      "image/png": "[encoded data removed]",
      "text/plain": [
       "<Figure size 432x288 with 1 Axes>"
      ]
     },
     "metadata": {
      "needs_background": "light"
     },
     "output_type": "display_data"
    }
   ],
   "source": [
    "# Frequency plot for root_label\n",
    "\n",
    "# plt.figure(figsize=(3,3))\n",
    "plt.hist(df['root_label'],\n",
    "        histtype='bar')\n",
    "plt.show()"
   ]
  },
  {
   "cell_type": "markdown",
   "id": "12da4b6a",
   "metadata": {},
   "source": [
    "The first plot suggests that most of the documents have less that 5,000 alpha-numeric characters. Few documents are very long with some having more than 30,000 alpha-numeric characters. The second frequency plot for leaf_label suggests that data is distributed equally among the 8 classes with each class having 259 samples in total. The third plot suggests that for the binary class label root_label, data is distributed equally between the 2 classes sports and climate, with each having 1036 data points."
   ]
  },
  {
   "cell_type": "markdown",
   "id": "689d9d53",
   "metadata": {},
   "source": [
    "### 1. Binary Classification\n",
    "\n",
    "- Use full_text to extract features for binary classification to root_label classes: sports and climate"
   ]
  },
  {
   "cell_type": "markdown",
   "id": "cc3ee32f",
   "metadata": {},
   "source": [
    "#### 1.1 Split data"
   ]
  },
  {
   "cell_type": "code",
   "execution_count": 190,
   "id": "39782eea",
   "metadata": {},
   "outputs": [],
   "source": [
    "import numpy as np\n",
    "import random\n",
    "np.random.seed(42)\n",
    "random.seed(42)"
   ]
  },
  {
   "cell_type": "code",
   "execution_count": 191,
   "id": "7860642e",
   "metadata": {},
   "outputs": [],
   "source": [
    "## Split data into train and test\n",
    "from sklearn.model_selection import train_test_split\n",
    "train, test = train_test_split(df, test_size=0.2)\n"
   ]
  },
  {
   "cell_type": "code",
   "execution_count": 192,
   "id": "da3f9c6a",
   "metadata": {},
   "outputs": [
    {
     "name": "stdout",
     "output_type": "stream",
     "text": [
      "(1657, 10)\n",
      "(415, 10)\n"
     ]
    }
   ],
   "source": [
    "print(train.shape)\n",
    "print(test.shape)"
   ]
  },
  {
   "cell_type": "markdown",
   "id": "6f3673ac",
   "metadata": {},
   "source": [
    "Question 2: There are total 1657 samples in training data and 415 samples in test data."
   ]
  },
  {
   "cell_type": "code",
   "execution_count": 193,
   "id": "9b4e1412",
   "metadata": {},
   "outputs": [],
   "source": [
    "## check class distribution in train and test\n",
    "\n",
    "# train['leaf_label'].value_counts(normalize = True)\n",
    "# test['leaf_label'].value_counts(normalize = True)\n",
    "# train['root_label'].value_counts(normalize = True)\n",
    "# test['root_label'].value_counts(normalize = True)"
   ]
  },
  {
   "cell_type": "markdown",
   "id": "f5274562",
   "metadata": {},
   "source": [
    "#### 1.2 Feature extraction"
   ]
  },
  {
   "cell_type": "code",
   "execution_count": 194,
   "id": "26efea77",
   "metadata": {},
   "outputs": [],
   "source": [
    "## Import libraries\n",
    "import re\n",
    "from sklearn.feature_extraction import text\n",
    "from sklearn.feature_extraction.text import CountVectorizer, TfidfTransformer\n",
    "\n",
    "import nltk\n",
    "from nltk import pos_tag\n",
    "from nltk.tokenize import sent_tokenize\n",
    "from nltk.corpus import stopwords\n",
    "#nltk.download('stopwords' )\n",
    "\n",
    "\n",
    "import string\n",
    "from string import punctuation\n",
    "\n",
    "stop_words_skt = text.ENGLISH_STOP_WORDS\n",
    "stop_words_en = stopwords.words('english')\n"
   ]
  },
  {
   "cell_type": "code",
   "execution_count": 195,
   "id": "c2c6047f",
   "metadata": {},
   "outputs": [],
   "source": [
    "#################################\n",
    "# FUNCTIONS\n",
    "#################################"
   ]
  },
  {
   "cell_type": "code",
   "execution_count": 196,
   "id": "ae0ff50c",
   "metadata": {},
   "outputs": [],
   "source": [
    "def clean(text):\n",
    "    '''\n",
    "    Helps remove many HTML artefacts from the crawler's output.\n",
    "    '''\n",
    "    text = re.sub(r'^https?:\\/\\/.*[\\r\\n]*', '', text, flags=re.MULTILINE)\n",
    "    texter = re.sub(r\"<br />\", \" \", text)\n",
    "    texter = re.sub(r\"&quot;\", \"\\\"\",texter)\n",
    "    texter = re.sub('&#39;', \"\\\"\", texter)\n",
    "    texter = re.sub('\\n', \" \", texter)\n",
    "    texter = re.sub(' u ',\" you \", texter)\n",
    "    texter = re.sub('`',\"\", texter)\n",
    "    texter = re.sub(' +', ' ', texter)\n",
    "    texter = re.sub(r\"(!)\\1+\", r\"!\", texter)\n",
    "    texter = re.sub(r\"(\\?)\\1+\", r\"?\", texter)\n",
    "    texter = re.sub('&amp;', 'and', texter)\n",
    "    texter = re.sub('\\r', ' ',texter)\n",
    "    clean = re.compile('<.*?>')\n",
    "    texter = texter.encode('ascii', 'ignore').decode('ascii')\n",
    "    texter = re.sub(clean, '', texter)\n",
    "    if texter == \"\":\n",
    "        texter = \"\"\n",
    "    return texter"
   ]
  },
  {
   "cell_type": "code",
   "execution_count": 197,
   "id": "80213a89",
   "metadata": {},
   "outputs": [],
   "source": [
    "\n",
    "combined_stopwords = set.union(set(stop_words_en),set(punctuation),set(stop_words_skt))\n",
    "wnl = nltk.wordnet.WordNetLemmatizer()\n",
    "stemmer = nltk.stem.PorterStemmer()\n",
    "\n",
    "analyzer = CountVectorizer().build_analyzer()\n",
    "def stemmed_words(doc):\n",
    "    return (stemmer.stem(w) for w in analyzer(doc))\n",
    "\n",
    "def penn2morphy(penntag):\n",
    "    \"\"\" \n",
    "    Converts Penn Treebank tags to WordNet. \n",
    "    \"\"\"\n",
    "    morphy_tag = {'NN':'n', 'JJ':'a',\n",
    "                  'VB':'v', 'RB':'r'}\n",
    "    try:\n",
    "        return morphy_tag[penntag[:2]]\n",
    "    except:\n",
    "        return 'n' \n",
    "\n",
    "def lemmatize_sent(list_word): \n",
    "    '''\n",
    "    Returns lemmatized set of tokens with pos tagging\n",
    "    '''\n",
    "    return [wnl.lemmatize(word.lower(), pos=penn2morphy(tag)) \n",
    "            for word, tag in pos_tag(list_word)]\n",
    "\n",
    "def stem_rmv_punc(doc): # this should have been at the sentence-level because the pos-tag performs best at sentence-level\n",
    "    return (word for word in lemmatize_sent(analyzer(doc)) if word not in combined_stopwords and not word.isdigit())\n",
    "\n",
    "\n",
    "def clean_tokens (tokens: list):\n",
    "    lower_txt = [token.lower() for token in tokens]\n",
    "    \n",
    "    # if lemmatization\n",
    "#     lemmatize_tokens = lemmatize_sent(lower_txt)  \n",
    "#     remove_digits = [token for token in lemmatize_tokens if not token.isdigit()]\n",
    "    # if stemming\n",
    "    stem_tokens = [stemmer.stem(token) for token in lower_txt] \n",
    "    remove_digits = [token for token in stem_tokens if not token.isdigit()]\n",
    "    \n",
    "    remove_stopwords = [token for token in remove_digits if token not in combined_stopwords]\n",
    "    len_token = [token for token in remove_stopwords if len(token)>1]\n",
    "    return len_token\n",
    "\n",
    "def doc_tokens (doc):\n",
    "    list_sentences = sent_tokenize(doc)\n",
    "    doc_tokens = []\n",
    "    for sentence in list_sentences:\n",
    "        sentence = sentence.translate(str.maketrans('', '', string.punctuation))\n",
    "        tokens = nltk.word_tokenize(sentence)\n",
    "        tokens = clean_tokens(tokens)\n",
    "        doc_tokens.extend(tokens)\n",
    "#     print(doc_tokens)\n",
    "    return (word for word in doc_tokens)       \n",
    "    "
   ]
  },
  {
   "cell_type": "markdown",
   "id": "ad08b2e4",
   "metadata": {},
   "source": [
    "Ref: https://avielrs.github.io/lemmatization/\n",
    "\n",
    "Difference between stemming and lemmatization:\n",
    "    Stemming tries to reduce the word to root/base word which might or might not have actual meaning associated with it. It works by removing siffixes from the words. Stemming can be beneficial when developing search engines for query matching and feature space reduction when training a model. Since, stemming does not take into account the complexities of english language, it might end up changing the meaning of the word entirely for example from does to doe. Also, the resulting words after stemming might be hard to understand as they don't necessarily have a meaning associated. Stemming might be preferred when the meaning of the word is not important. It is also faster than lemmatization.\n",
    "    Lemmatization on the other hand, is more careful that the word reduction does not lose the meaning of the word. It can also utilize some complexities of english language such as parts of speech in order to return better root words. A downside for lemmatization is that it might end up giving a larger feature set compared to stemming."
   ]
  },
  {
   "cell_type": "code",
   "execution_count": 198,
   "id": "f5cedc45",
   "metadata": {},
   "outputs": [],
   "source": [
    "# punctuation"
   ]
  },
  {
   "cell_type": "code",
   "execution_count": 199,
   "id": "015207c2",
   "metadata": {},
   "outputs": [],
   "source": [
    "#################################\n",
    "# MAIN\n",
    "#################################"
   ]
  },
  {
   "cell_type": "code",
   "execution_count": 200,
   "id": "bfed8a6d",
   "metadata": {},
   "outputs": [],
   "source": [
    "# train_debug = train[:50]"
   ]
  },
  {
   "cell_type": "code",
   "execution_count": 201,
   "id": "865bfc36",
   "metadata": {},
   "outputs": [],
   "source": [
    "count_vectorizer = CountVectorizer(min_df=3, stop_words='english', analyzer=doc_tokens, max_df=0.7)\n",
    "# count_vectorizer = CountVectorizer(stop_words='english', analyzer=doc_tokens)\n",
    "X_train_counts = count_vectorizer.fit_transform(train['full_text'])"
   ]
  },
  {
   "cell_type": "code",
   "execution_count": 202,
   "id": "143b513b",
   "metadata": {},
   "outputs": [
    {
     "data": {
      "text/plain": [
       "(1657, 9326)"
      ]
     },
     "execution_count": 202,
     "metadata": {},
     "output_type": "execute_result"
    }
   ],
   "source": [
    "X_train_counts.shape"
   ]
  },
  {
   "cell_type": "markdown",
   "id": "e202b5a8",
   "metadata": {},
   "source": [
    "Lemmatization leads to 10451 keywords, while stemming leads to 9382 keywords. Stemming reduces the dictionary size."
   ]
  },
  {
   "cell_type": "code",
   "execution_count": 203,
   "id": "50862ba4",
   "metadata": {},
   "outputs": [
    {
     "data": {
      "text/plain": [
       "['08837phone',\n",
       " '100th',\n",
       " '100year',\n",
       " '10km',\n",
       " '10th',\n",
       " '10year',\n",
       " '10yearold',\n",
       " '11th',\n",
       " '11yearold',\n",
       " '12th',\n",
       " '12yard',\n",
       " '13th',\n",
       " '13yard',\n",
       " '14game',\n",
       " '14th',\n",
       " '15man',\n",
       " '15th',\n",
       " '15yard',\n",
       " '16th',\n",
       " '17f',\n",
       " '17inch',\n",
       " '17magnitud',\n",
       " '17th',\n",
       " '17yard',\n",
       " '18th',\n",
       " '18yearold',\n",
       " '19th',\n",
       " '19yard',\n",
       " '1and4',\n",
       " '1st',\n",
       " '1yard',\n",
       " '20th',\n",
       " '20year',\n",
       " '21st',\n",
       " '21yard',\n",
       " '22yard',\n",
       " '22yearold',\n",
       " '23rd',\n",
       " '23yard',\n",
       " '23yearold',\n",
       " '247sport',\n",
       " '24hour',\n",
       " '24th',\n",
       " '25th',\n",
       " '25yearold',\n",
       " '26th',\n",
       " '27th',\n",
       " '28th',\n",
       " '28yearold',\n",
       " '29th',\n",
       " '29yard',\n",
       " '29yearold',\n",
       " '2am',\n",
       " '2nd',\n",
       " '2s',\n",
       " '2yard',\n",
       " '2½',\n",
       " '30day',\n",
       " '30th',\n",
       " '30yard',\n",
       " '30yearold',\n",
       " '31st',\n",
       " '31yearold',\n",
       " '32nd',\n",
       " '32yard',\n",
       " '32yearold',\n",
       " '33yard',\n",
       " '33yearold',\n",
       " '34game',\n",
       " '34th',\n",
       " '34yard',\n",
       " '35liter',\n",
       " '360degre',\n",
       " '36yard',\n",
       " '36yearold',\n",
       " '37inch',\n",
       " '37th',\n",
       " '37yard',\n",
       " '37yearold',\n",
       " '39yard',\n",
       " '3a',\n",
       " '3d',\n",
       " '3rd',\n",
       " '40th',\n",
       " '40yard',\n",
       " '40yearold',\n",
       " '42nd',\n",
       " '44yearold',\n",
       " '45yard',\n",
       " '45yearold',\n",
       " '47magnitud',\n",
       " '47yard',\n",
       " '48yard',\n",
       " '49er',\n",
       " '49yard',\n",
       " '4g',\n",
       " '4th',\n",
       " '50over',\n",
       " '50plu',\n",
       " '50th',\n",
       " '51yard',\n",
       " '53yard',\n",
       " '53yearold',\n",
       " '54yard',\n",
       " '55yarder',\n",
       " '56yard',\n",
       " '58magnitud',\n",
       " '58th',\n",
       " '5g',\n",
       " '5th',\n",
       " '5year',\n",
       " '62nd',\n",
       " '63magnitud',\n",
       " '64th',\n",
       " '65th',\n",
       " '6th',\n",
       " '71magnitud',\n",
       " '72nd',\n",
       " '73liter',\n",
       " '75km',\n",
       " '75magnitud',\n",
       " '75yard',\n",
       " '76th',\n",
       " '78magnitud',\n",
       " '79th',\n",
       " '7day',\n",
       " '7th',\n",
       " '7yard',\n",
       " '85th',\n",
       " '86th',\n",
       " '88th',\n",
       " '8pm',\n",
       " '8th',\n",
       " '8yard',\n",
       " '919881074592infoqurateresearchcomw',\n",
       " '930pm',\n",
       " '9th',\n",
       " 'a3',\n",
       " 'a4',\n",
       " 'a5',\n",
       " 'a6',\n",
       " 'aap',\n",
       " 'aaron',\n",
       " 'ab',\n",
       " 'abandon',\n",
       " 'abat',\n",
       " 'abbi',\n",
       " 'abbott',\n",
       " 'abc',\n",
       " 'abc10',\n",
       " 'abdul',\n",
       " 'abhishek',\n",
       " 'abid',\n",
       " 'abil',\n",
       " 'abject',\n",
       " 'abl',\n",
       " 'ablat',\n",
       " 'abnorm',\n",
       " 'abolish',\n",
       " 'aborigin',\n",
       " 'abov',\n",
       " 'aboveaverag',\n",
       " 'abraham',\n",
       " 'abrahamyan',\n",
       " 'abram',\n",
       " 'abroad',\n",
       " 'abrupt',\n",
       " 'absenc',\n",
       " 'absent',\n",
       " 'absolut',\n",
       " 'absorb',\n",
       " 'abstract',\n",
       " 'abu',\n",
       " 'abund',\n",
       " 'abundantli',\n",
       " 'abus',\n",
       " 'ac',\n",
       " 'academ',\n",
       " 'academi',\n",
       " 'acc',\n",
       " 'acceler',\n",
       " 'accent',\n",
       " 'accept',\n",
       " 'access',\n",
       " 'accessori',\n",
       " 'accid',\n",
       " 'accident',\n",
       " 'accolad',\n",
       " 'accomack',\n",
       " 'accommod',\n",
       " 'accompani',\n",
       " 'accomplish',\n",
       " 'accord',\n",
       " 'accordingli',\n",
       " 'account',\n",
       " 'accredit',\n",
       " 'accumul',\n",
       " 'accur',\n",
       " 'accuraci',\n",
       " 'accus',\n",
       " 'accuweath',\n",
       " 'ace',\n",
       " 'achiev',\n",
       " 'acid',\n",
       " 'acknowledg',\n",
       " 'acl',\n",
       " 'acoust',\n",
       " 'acquir',\n",
       " 'acquisit',\n",
       " 'acr',\n",
       " 'acreag',\n",
       " 'acrefeet',\n",
       " 'acrobat',\n",
       " 'act',\n",
       " 'action',\n",
       " 'activ',\n",
       " 'activist',\n",
       " 'actor',\n",
       " 'actress',\n",
       " 'actual',\n",
       " 'actuari',\n",
       " 'acut',\n",
       " 'ad',\n",
       " 'adam',\n",
       " 'adapt',\n",
       " 'add',\n",
       " 'addict',\n",
       " 'addit',\n",
       " 'address',\n",
       " 'adel',\n",
       " 'adelaid',\n",
       " 'adept',\n",
       " 'adequ',\n",
       " 'adewumi',\n",
       " 'adher',\n",
       " 'adida',\n",
       " 'adjac',\n",
       " 'adjust',\n",
       " 'administ',\n",
       " 'administr',\n",
       " 'admir',\n",
       " 'admiss',\n",
       " 'admit',\n",
       " 'adopt',\n",
       " 'ador',\n",
       " 'adrian',\n",
       " 'adult',\n",
       " 'advanc',\n",
       " 'advantag',\n",
       " 'adventur',\n",
       " 'advers',\n",
       " 'advertis',\n",
       " 'advic',\n",
       " 'advis',\n",
       " 'advisor',\n",
       " 'advisori',\n",
       " 'advoc',\n",
       " 'advocaci',\n",
       " 'aerial',\n",
       " 'aerospac',\n",
       " 'aesthet',\n",
       " 'afc',\n",
       " 'affair',\n",
       " 'affect',\n",
       " 'affili',\n",
       " 'affirm',\n",
       " 'afford',\n",
       " 'afghan',\n",
       " 'afghanistan',\n",
       " 'aforement',\n",
       " 'afp',\n",
       " 'afraid',\n",
       " 'africa',\n",
       " 'african',\n",
       " 'aftermarket',\n",
       " 'aftermath',\n",
       " 'afternoon',\n",
       " 'aftershock',\n",
       " 'afterward',\n",
       " 'ag',\n",
       " 'agarw',\n",
       " 'age',\n",
       " 'agenc',\n",
       " 'agenda',\n",
       " 'agent',\n",
       " 'aggrav',\n",
       " 'aggreg',\n",
       " 'aggress',\n",
       " 'aggressor',\n",
       " 'ago',\n",
       " 'agra',\n",
       " 'agre',\n",
       " 'agreement',\n",
       " 'agricultur',\n",
       " 'ahead',\n",
       " 'ahm',\n",
       " 'ahmad',\n",
       " 'ai',\n",
       " 'aid',\n",
       " 'aiden',\n",
       " 'aidriven',\n",
       " 'aijaz',\n",
       " 'aim',\n",
       " 'aimnasdaq',\n",
       " 'air',\n",
       " 'aircraft',\n",
       " 'airplan',\n",
       " 'airport',\n",
       " 'aisl',\n",
       " 'aiyuk',\n",
       " 'aj',\n",
       " 'ajaz',\n",
       " 'ajinkya',\n",
       " 'aka',\n",
       " 'akash',\n",
       " 'akbar',\n",
       " 'akeal',\n",
       " 'akin',\n",
       " 'al',\n",
       " 'alabama',\n",
       " 'alain',\n",
       " 'alam',\n",
       " 'alameda',\n",
       " 'alan',\n",
       " 'alarm',\n",
       " 'alaska',\n",
       " 'albania',\n",
       " 'albeit',\n",
       " 'albert',\n",
       " 'album',\n",
       " 'albuquerqu',\n",
       " 'alcohol',\n",
       " 'alejandro',\n",
       " 'aleksand',\n",
       " 'aleksandr',\n",
       " 'alert',\n",
       " 'alex',\n",
       " 'alexand',\n",
       " 'alexandra',\n",
       " 'alexandria',\n",
       " 'alfr',\n",
       " 'algeria',\n",
       " 'algorithm',\n",
       " 'ali',\n",
       " 'alic',\n",
       " 'alien',\n",
       " 'align',\n",
       " 'alik',\n",
       " 'alireza',\n",
       " 'alis',\n",
       " 'aliv',\n",
       " 'allamerican',\n",
       " 'alleg',\n",
       " 'allegedli',\n",
       " 'allen',\n",
       " 'allevi',\n",
       " 'alli',\n",
       " 'allianc',\n",
       " 'allison',\n",
       " 'alloc',\n",
       " 'allot',\n",
       " 'allow',\n",
       " 'allpro',\n",
       " 'allround',\n",
       " 'allstar',\n",
       " 'allstat',\n",
       " 'alltim',\n",
       " 'alon',\n",
       " 'alongsid',\n",
       " 'alonzo',\n",
       " 'alphabet',\n",
       " 'alreadi',\n",
       " 'alright',\n",
       " 'alter',\n",
       " 'altern',\n",
       " 'altitud',\n",
       " 'altogeth',\n",
       " 'alumni',\n",
       " 'alvarez',\n",
       " 'alway',\n",
       " 'amanda',\n",
       " 'amass',\n",
       " 'amateur',\n",
       " 'amaz',\n",
       " 'amazon',\n",
       " 'amazona',\n",
       " 'ambassador',\n",
       " 'ambient',\n",
       " 'ambit',\n",
       " 'ambiti',\n",
       " 'ame',\n",
       " 'amen',\n",
       " 'amend',\n",
       " 'america',\n",
       " 'american',\n",
       " 'america•',\n",
       " 'ami',\n",
       " 'amid',\n",
       " 'amidst',\n",
       " 'ammo',\n",
       " 'ammonia',\n",
       " 'ampl',\n",
       " 'amplifi',\n",
       " 'anaheim',\n",
       " 'analog',\n",
       " 'analys',\n",
       " 'analysi',\n",
       " 'analysischapt',\n",
       " 'analysis•',\n",
       " 'analyst',\n",
       " 'analyt',\n",
       " 'analyz',\n",
       " 'anand',\n",
       " 'anchor',\n",
       " 'anchorag',\n",
       " 'ancient',\n",
       " 'anderson',\n",
       " 'andi',\n",
       " 'andor',\n",
       " 'andorra',\n",
       " 'andov',\n",
       " 'andr',\n",
       " 'andrea',\n",
       " 'andrew',\n",
       " 'android',\n",
       " 'anecdot',\n",
       " 'angel',\n",
       " 'angeleno',\n",
       " 'angelo',\n",
       " 'anger',\n",
       " 'angl',\n",
       " 'angola',\n",
       " 'angri',\n",
       " 'angst',\n",
       " 'anguilla',\n",
       " 'ani',\n",
       " 'anil',\n",
       " 'anim',\n",
       " 'ankl',\n",
       " 'ann',\n",
       " 'anna',\n",
       " 'annapoli',\n",
       " 'anniversari',\n",
       " 'announc',\n",
       " 'announcedbi',\n",
       " 'annoy',\n",
       " 'annual',\n",
       " 'anomali',\n",
       " 'anonym',\n",
       " 'anoth',\n",
       " 'answer',\n",
       " 'ant',\n",
       " 'antarct',\n",
       " 'antarctica',\n",
       " 'anthem',\n",
       " 'antholog',\n",
       " 'anthoni',\n",
       " 'antibodi',\n",
       " 'antic',\n",
       " 'anticip',\n",
       " 'antigua',\n",
       " 'antil',\n",
       " 'antiqu',\n",
       " 'anton',\n",
       " 'antonia',\n",
       " 'antonio',\n",
       " 'anurag',\n",
       " 'anxieti',\n",
       " 'anxiou',\n",
       " 'anya',\n",
       " 'anybodi',\n",
       " 'anymor',\n",
       " 'anyon',\n",
       " 'anyth',\n",
       " 'anytim',\n",
       " 'anywher',\n",
       " 'ap',\n",
       " 'apac',\n",
       " 'apart',\n",
       " 'apawn',\n",
       " 'apex',\n",
       " 'api',\n",
       " 'apiec',\n",
       " 'apocalyps',\n",
       " 'apocalypt',\n",
       " 'apolog',\n",
       " 'apologis',\n",
       " 'app',\n",
       " 'appal',\n",
       " 'appalachian',\n",
       " 'appar',\n",
       " 'apparel',\n",
       " 'appeal',\n",
       " 'appear',\n",
       " 'appetit',\n",
       " 'appl',\n",
       " 'applaud',\n",
       " 'appli',\n",
       " 'applianc',\n",
       " 'applic',\n",
       " 'appoint',\n",
       " 'appreci',\n",
       " 'approach',\n",
       " 'appropri',\n",
       " 'approv',\n",
       " 'approxim',\n",
       " 'april',\n",
       " 'aquif',\n",
       " 'arab',\n",
       " 'arabia',\n",
       " 'arbitrari',\n",
       " 'arbor',\n",
       " 'arc',\n",
       " 'arch',\n",
       " 'archer',\n",
       " 'archetyp',\n",
       " 'archipelago',\n",
       " 'architect',\n",
       " 'architectur',\n",
       " 'archiv',\n",
       " 'archriv',\n",
       " 'ardi',\n",
       " 'area',\n",
       " 'arena',\n",
       " 'arent',\n",
       " 'argentin',\n",
       " 'argentina',\n",
       " 'argu',\n",
       " 'arguabl',\n",
       " 'argument',\n",
       " 'aric',\n",
       " 'arid',\n",
       " 'aridif',\n",
       " 'aris',\n",
       " 'ariz',\n",
       " 'arizona',\n",
       " 'ark',\n",
       " 'arkansa',\n",
       " 'arlington',\n",
       " 'arm',\n",
       " 'armando',\n",
       " 'armenia',\n",
       " 'armi',\n",
       " 'armor',\n",
       " 'aros',\n",
       " 'arrang',\n",
       " 'array',\n",
       " 'arrest',\n",
       " 'arriv',\n",
       " 'arroyo',\n",
       " 'arsen',\n",
       " 'arson',\n",
       " 'art',\n",
       " 'arthur',\n",
       " 'articl',\n",
       " 'artifact',\n",
       " 'artifici',\n",
       " 'artist',\n",
       " 'artwork',\n",
       " 'aruba',\n",
       " 'arundel',\n",
       " 'asad',\n",
       " 'ash',\n",
       " 'ashevil',\n",
       " 'ashley',\n",
       " 'ashton',\n",
       " 'ashwin',\n",
       " 'asia',\n",
       " 'asiacraig',\n",
       " 'asian',\n",
       " 'asiapacif',\n",
       " 'asid',\n",
       " 'ask',\n",
       " 'aslani',\n",
       " 'asleep',\n",
       " 'aspect',\n",
       " 'aspir',\n",
       " 'asprevi',\n",
       " 'assassin',\n",
       " 'assault',\n",
       " 'assem',\n",
       " 'assembl',\n",
       " 'assert',\n",
       " 'assess',\n",
       " 'asset',\n",
       " 'assign',\n",
       " 'assist',\n",
       " 'associ',\n",
       " 'assort',\n",
       " 'assum',\n",
       " 'assumpt',\n",
       " 'assur',\n",
       " 'asthma',\n",
       " 'astonish',\n",
       " 'astronom',\n",
       " 'athen',\n",
       " 'athlet',\n",
       " 'atlant',\n",
       " 'atlanta',\n",
       " 'atletico',\n",
       " 'atmospher',\n",
       " 'atom',\n",
       " 'aton',\n",
       " 'atop',\n",
       " 'atrisk',\n",
       " 'att',\n",
       " 'attach',\n",
       " 'attack',\n",
       " 'attain',\n",
       " 'attempt',\n",
       " 'attend',\n",
       " 'attende',\n",
       " 'attent',\n",
       " 'atth',\n",
       " 'attitud',\n",
       " 'attorney',\n",
       " 'attract',\n",
       " 'attribut',\n",
       " 'attrit',\n",
       " 'attun',\n",
       " 'auburn',\n",
       " 'auction',\n",
       " 'audienc',\n",
       " 'audio',\n",
       " 'audit',\n",
       " 'auditorium',\n",
       " 'aug',\n",
       " 'augment',\n",
       " 'august',\n",
       " 'augustin',\n",
       " 'aunt',\n",
       " 'aussi',\n",
       " 'austin',\n",
       " 'australia',\n",
       " 'australian',\n",
       " 'austria',\n",
       " 'authent',\n",
       " 'author',\n",
       " 'auto',\n",
       " 'autom',\n",
       " 'automak',\n",
       " 'automat',\n",
       " 'automot',\n",
       " 'autumn',\n",
       " 'auxiliari',\n",
       " 'ava',\n",
       " 'avail',\n",
       " 'ave',\n",
       " 'aveng',\n",
       " 'avenu',\n",
       " 'averag',\n",
       " 'averi',\n",
       " 'avoid',\n",
       " 'aw',\n",
       " 'await',\n",
       " 'awak',\n",
       " 'awaken',\n",
       " 'awar',\n",
       " 'award',\n",
       " 'awardwin',\n",
       " 'away',\n",
       " 'awesom',\n",
       " 'axar',\n",
       " 'axb4',\n",
       " 'axb5',\n",
       " 'axe',\n",
       " 'axl',\n",
       " 'az',\n",
       " 'azam',\n",
       " 'azeem',\n",
       " 'azerbaijan',\n",
       " 'b2b',\n",
       " 'b4',\n",
       " 'b5',\n",
       " 'b6',\n",
       " 'ba4',\n",
       " 'babar',\n",
       " 'babi',\n",
       " 'bachelor',\n",
       " 'backandforth',\n",
       " 'backbon',\n",
       " 'backcountri',\n",
       " 'backdrop',\n",
       " 'backfir',\n",
       " 'background',\n",
       " 'backlash',\n",
       " 'backlin',\n",
       " 'backroom',\n",
       " 'backsid',\n",
       " 'backstag',\n",
       " 'backtoback',\n",
       " 'backup',\n",
       " 'backward',\n",
       " 'backyard',\n",
       " 'bacon',\n",
       " 'bad',\n",
       " 'badghi',\n",
       " 'badli',\n",
       " 'bag',\n",
       " 'bahama',\n",
       " 'bahrain',\n",
       " 'bail',\n",
       " 'bailey',\n",
       " 'bairstow',\n",
       " 'baja',\n",
       " 'bake',\n",
       " 'baker',\n",
       " 'bakeri',\n",
       " 'bakersfield',\n",
       " 'balanc',\n",
       " 'baldwin',\n",
       " 'bali',\n",
       " 'ball',\n",
       " 'balloon',\n",
       " 'ballot',\n",
       " 'ballshap',\n",
       " 'balltamp',\n",
       " 'ballycastl',\n",
       " 'baltimor',\n",
       " 'bam',\n",
       " 'ban',\n",
       " 'band',\n",
       " 'banfield',\n",
       " 'bang',\n",
       " 'bangalor',\n",
       " 'bangladesh',\n",
       " 'bangli',\n",
       " 'bank',\n",
       " 'bankruptci',\n",
       " 'banner',\n",
       " 'banter',\n",
       " 'bar',\n",
       " 'barbado',\n",
       " 'barbara',\n",
       " 'barbecu',\n",
       " 'barbuda',\n",
       " 'barcelona',\n",
       " 'barclay',\n",
       " 'bare',\n",
       " 'bargain',\n",
       " 'barker',\n",
       " 'barkley',\n",
       " 'barley',\n",
       " 'barn',\n",
       " 'barrag',\n",
       " 'barren',\n",
       " 'barrett',\n",
       " 'barri',\n",
       " 'barricad',\n",
       " 'barrier',\n",
       " 'base',\n",
       " 'basebal',\n",
       " 'baselin',\n",
       " 'basement',\n",
       " 'bash',\n",
       " 'basi',\n",
       " 'basic',\n",
       " 'basin',\n",
       " 'basket',\n",
       " 'basketbal',\n",
       " 'basler',\n",
       " 'bass',\n",
       " 'bat',\n",
       " 'batch',\n",
       " 'bath',\n",
       " 'bathroom',\n",
       " 'baton',\n",
       " 'batsman',\n",
       " 'batsmen',\n",
       " 'batter',\n",
       " 'batteri',\n",
       " 'battl',\n",
       " 'battleground',\n",
       " 'batur',\n",
       " 'bavdhanpun',\n",
       " 'bay',\n",
       " 'baylor',\n",
       " 'baysid',\n",
       " 'bb3',\n",
       " 'bb4',\n",
       " 'bb5',\n",
       " 'bb7',\n",
       " 'bbc',\n",
       " 'bc',\n",
       " 'bc3',\n",
       " 'bc4',\n",
       " 'bc8',\n",
       " 'bcci',\n",
       " 'bd2',\n",
       " 'bd3',\n",
       " 'bd6',\n",
       " 'bd7',\n",
       " 'be2',\n",
       " 'be3',\n",
       " 'be4',\n",
       " 'be6',\n",
       " 'be7',\n",
       " 'beach',\n",
       " 'beachgoer',\n",
       " 'beam',\n",
       " 'bean',\n",
       " 'beani',\n",
       " 'bear',\n",
       " 'beard',\n",
       " 'beast',\n",
       " 'beasti',\n",
       " 'beat',\n",
       " 'beaten',\n",
       " 'beatl',\n",
       " 'beauti',\n",
       " 'beaver',\n",
       " 'becam',\n",
       " 'becaus',\n",
       " 'beckham',\n",
       " 'becki',\n",
       " 'becom',\n",
       " 'bed',\n",
       " 'bedmount',\n",
       " 'bee',\n",
       " 'beef',\n",
       " 'beer',\n",
       " 'beetl',\n",
       " 'befor',\n",
       " 'began',\n",
       " 'begin',\n",
       " 'beginn',\n",
       " 'begun',\n",
       " 'behalf',\n",
       " 'behav',\n",
       " 'behavior',\n",
       " 'behaviour',\n",
       " 'behindthescen',\n",
       " 'behold',\n",
       " 'beij',\n",
       " 'belaili',\n",
       " 'belaru',\n",
       " 'belfast',\n",
       " 'belgium',\n",
       " 'belief',\n",
       " 'believ',\n",
       " 'beliz',\n",
       " 'bell',\n",
       " 'bellingham',\n",
       " 'belong',\n",
       " 'belov',\n",
       " 'belowaverag',\n",
       " 'belt',\n",
       " 'ben',\n",
       " 'bench',\n",
       " 'benchmark',\n",
       " 'bend',\n",
       " 'beneath',\n",
       " 'benefici',\n",
       " 'benefit',\n",
       " 'bengal',\n",
       " 'bengaluru',\n",
       " 'benin',\n",
       " 'benjamin',\n",
       " 'bennett',\n",
       " 'bent',\n",
       " 'berkeley',\n",
       " 'berlin',\n",
       " 'bermuda',\n",
       " 'bernardino',\n",
       " 'berri',\n",
       " 'bert',\n",
       " 'berth',\n",
       " 'beset',\n",
       " 'besid',\n",
       " 'best',\n",
       " 'bestsel',\n",
       " 'bet',\n",
       " 'beta',\n",
       " 'beth',\n",
       " 'betray',\n",
       " 'better',\n",
       " 'beverag',\n",
       " 'beverli',\n",
       " 'beyonc',\n",
       " 'beyoncé',\n",
       " 'bf4',\n",
       " 'bf5',\n",
       " 'bg',\n",
       " 'bg2',\n",
       " 'bhutan',\n",
       " 'bid',\n",
       " 'biden',\n",
       " 'biennial',\n",
       " 'big',\n",
       " 'bigger',\n",
       " 'biggest',\n",
       " 'bighit',\n",
       " 'bijan',\n",
       " 'bike',\n",
       " 'bilater',\n",
       " 'billboard',\n",
       " 'billi',\n",
       " 'billion',\n",
       " 'billow',\n",
       " 'bin',\n",
       " 'bind',\n",
       " 'bingo',\n",
       " 'biobubbl',\n",
       " 'biodivers',\n",
       " 'biolog',\n",
       " 'biologist',\n",
       " 'biosecur',\n",
       " 'bioshock',\n",
       " 'biospher',\n",
       " 'bipartisan',\n",
       " 'bipoc',\n",
       " 'bird',\n",
       " 'birmingham',\n",
       " 'birth',\n",
       " 'birthday',\n",
       " 'biscuit',\n",
       " 'bishop',\n",
       " 'bismarck',\n",
       " 'bit',\n",
       " 'bitcoin',\n",
       " 'bite',\n",
       " 'bites',\n",
       " 'bitter',\n",
       " 'bizarr',\n",
       " 'black',\n",
       " 'blackandwhit',\n",
       " 'blackburn',\n",
       " 'blackcap',\n",
       " 'blacken',\n",
       " 'blackout',\n",
       " 'blacksburg',\n",
       " 'blade',\n",
       " 'blake',\n",
       " 'blame',\n",
       " 'blanco',\n",
       " 'blank',\n",
       " 'blanket',\n",
       " 'blast',\n",
       " 'blatter',\n",
       " 'blaze',\n",
       " 'bleak',\n",
       " 'blend',\n",
       " 'bless',\n",
       " 'blew',\n",
       " 'blind',\n",
       " 'blister',\n",
       " 'blitz',\n",
       " 'blm',\n",
       " 'bloc',\n",
       " 'block',\n",
       " 'blockchain',\n",
       " 'bloemfontein',\n",
       " 'blog',\n",
       " 'blogger',\n",
       " 'bloke',\n",
       " 'blood',\n",
       " 'bloodstream',\n",
       " 'bloom',\n",
       " 'blossom',\n",
       " 'blow',\n",
       " 'blown',\n",
       " 'blowout',\n",
       " 'blue',\n",
       " 'blueprint',\n",
       " 'bluff',\n",
       " 'blunder',\n",
       " 'blunt',\n",
       " 'blusteri',\n",
       " 'bmw',\n",
       " 'board',\n",
       " 'boast',\n",
       " 'boat',\n",
       " 'boater',\n",
       " 'bob',\n",
       " 'bobbi',\n",
       " 'bode',\n",
       " 'bodi',\n",
       " 'boe',\n",
       " 'boil',\n",
       " 'bold',\n",
       " 'bolivarian',\n",
       " 'bolivia',\n",
       " 'bollywood',\n",
       " 'bolster',\n",
       " 'bolt',\n",
       " 'bom',\n",
       " 'bomb',\n",
       " 'bombard',\n",
       " 'bond',\n",
       " 'bone',\n",
       " 'bonner',\n",
       " 'bonni',\n",
       " 'bonu',\n",
       " 'book',\n",
       " 'boom',\n",
       " 'boombox',\n",
       " 'boon',\n",
       " 'boost',\n",
       " 'booster',\n",
       " 'boot',\n",
       " ...]"
      ]
     },
     "execution_count": 203,
     "metadata": {},
     "output_type": "execute_result"
    }
   ],
   "source": [
    "count_vectorizer.get_feature_names()"
   ]
  },
  {
   "cell_type": "code",
   "execution_count": 204,
   "id": "44b5ab4f",
   "metadata": {},
   "outputs": [],
   "source": [
    "transformer = TfidfTransformer()\n",
    "X_train_tfidf = transformer.fit_transform(X_train_counts)"
   ]
  },
  {
   "cell_type": "code",
   "execution_count": 205,
   "id": "01ff39e2",
   "metadata": {},
   "outputs": [
    {
     "name": "stdout",
     "output_type": "stream",
     "text": [
      "(1657, 29631)\n",
      "(1657, 13316)\n",
      "(1657, 9326)\n",
      "(1657, 7413)\n"
     ]
    }
   ],
   "source": [
    "min_dfs = range(1,5)\n",
    "for min_df in min_dfs:\n",
    "    count_vectorizer1 = CountVectorizer(min_df=min_df, stop_words='english', analyzer=doc_tokens, max_df=0.7)\n",
    "    X_train_counts1 = count_vectorizer1.fit_transform(train['full_text'])\n",
    "    \n",
    "    transformer1 = TfidfTransformer()\n",
    "    X_train_tfidf = transformer1.fit_transform(X_train_counts1)\n",
    "    \n",
    "    print(X_train_tfidf.shape)"
   ]
  },
  {
   "cell_type": "markdown",
   "id": "40fc1d57",
   "metadata": {},
   "source": [
    "Increasing minimum document frequency i.e, minimum number of documents in which the word should appear reduces the size of the vocabulary by removing words that are not descriptive of the set of documents as they occur in very few documents. It will also reduce some high idf (inverse document frequency) values associated with lower minimum document frequency as min_df is increased."
   ]
  },
  {
   "cell_type": "markdown",
   "id": "dc5a393f",
   "metadata": {},
   "source": [
    "Since lemmatization preserves the meaning of the words, stopwords ...."
   ]
  },
  {
   "cell_type": "code",
   "execution_count": 206,
   "id": "e0af03e7",
   "metadata": {},
   "outputs": [
    {
     "name": "stdout",
     "output_type": "stream",
     "text": [
      "(1657, 9326)\n",
      "(415, 9326)\n"
     ]
    }
   ],
   "source": [
    "count_vectorizer = CountVectorizer(min_df=3, stop_words='english', analyzer=doc_tokens, max_df=0.7)\n",
    "transformer = TfidfTransformer()\n",
    "\n",
    "X_train_counts = count_vectorizer.fit_transform(train['full_text'])\n",
    "X_train_tfidf = transformer.fit_transform(X_train_counts)\n",
    "\n",
    "X_test_counts = count_vectorizer.transform(test['full_text'])\n",
    "X_test_tfidf = transformer.transform(X_test_counts)\n",
    "\n",
    "print(X_train_tfidf.shape)\n",
    "print(X_test_tfidf.shape)"
   ]
  },
  {
   "cell_type": "markdown",
   "id": "c4830810",
   "metadata": {},
   "source": [
    "The shape of tf-idf processed train matrix is (1657, 9382) and the shape of test matrix is (415, 9382). The number of rows matches that in question 2."
   ]
  },
  {
   "cell_type": "markdown",
   "id": "b9591aaa",
   "metadata": {},
   "source": [
    "#### 1.3 Dimensionality reduction"
   ]
  },
  {
   "cell_type": "code",
   "execution_count": 217,
   "id": "9b975b5b",
   "metadata": {},
   "outputs": [],
   "source": [
    "from sklearn.decomposition import TruncatedSVD, NMF\n",
    "# contrary to PCA this method does not center the data, hence can work with sparse matrices. understand this.\n",
    "# understand PCA vs truncated SVD\n",
    "\n"
   ]
  },
  {
   "cell_type": "code",
   "execution_count": 260,
   "id": "b1c5d261",
   "metadata": {},
   "outputs": [
    {
     "name": "stdout",
     "output_type": "stream",
     "text": [
      "0.005680719937246284\n",
      "0.12007506018066508\n",
      "0.26733249865519193\n",
      "0.3630882099695052\n",
      "0.49359820400034476\n",
      "0.7261635851869629\n",
      "0.9223143266762159\n",
      "1.0\n"
     ]
    }
   ],
   "source": [
    "# Run LSI for various k values\n",
    "k_list = [1,10,50,100,200,500,1000,2000]\n",
    "explained_ratio = []\n",
    "for k in k_list:\n",
    "    svd = TruncatedSVD(n_components=k, n_iter = 20, random_state=42)\n",
    "    svd.fit(X_train_tfidf)\n",
    "    print(svd.explained_variance_ratio_.sum())\n",
    "    explained_ratio.append(svd.explained_variance_ratio_.sum())"
   ]
  },
  {
   "cell_type": "code",
   "execution_count": 219,
   "id": "0f130e02",
   "metadata": {},
   "outputs": [
    {
     "data": {
      "image/png": "[encoded data removed]",
      "text/plain": [
       "<Figure size 432x288 with 1 Axes>"
      ]
     },
     "metadata": {
      "needs_background": "light"
     },
     "output_type": "display_data"
    }
   ],
   "source": [
    "# plotting the explained variance ratio across number of components\n",
    "plt.plot(k_list, explained_ratio)\n",
    "plt.xlabel('n_components')\n",
    "plt.ylabel('explained_variance_ratio')\n",
    "plt.title('LSI')\n",
    "plt.show()"
   ]
  },
  {
   "cell_type": "markdown",
   "id": "a43b012f",
   "metadata": {},
   "source": [
    "Question 4: The plots concavity suggests that as we increase dimensions, the explained variance ratio first increases quickly and then the rate of increase in explained variance ratio decreases with increasing number of dimensions. Explained variance of each eigenvector has diminishing returns."
   ]
  },
  {
   "cell_type": "code",
   "execution_count": 256,
   "id": "edf45dd2",
   "metadata": {},
   "outputs": [],
   "source": [
    "def get_SVD_residual_MSE (X_train, X_test, k = 50):\n",
    "    svd = TruncatedSVD(n_components=k, n_iter = 20, random_state=42)\n",
    "    X_train_svd = svd.fit_transform(X_train)\n",
    "    VT = svd.components_\n",
    "    X_train_svd = np.matmul(X_train_svd, VT)\n",
    "#     print(X_train_svd)\n",
    "    mse_train = ((X_train.toarray() - X_train_svd)**2).mean(axis=None)\n",
    "    X_test_svd = svd.transform(X_test)\n",
    "    X_test_svd = np.matmul(X_test_svd, VT)\n",
    "    mse_test = ((X_test.toarray() - X_test_svd)**2).mean(axis=None)\n",
    "    print(mse_train, mse_test)\n",
    "    \n",
    "    \n",
    "    \n",
    "def get_NMF_residual_MSE (X_train, X_test, k= 50):\n",
    "    nmf = NMF(n_components=k, init='random', random_state=0)\n",
    "    X_train_nmf = nmf.fit_transform(X_train)\n",
    "    H = nmf.components_\n",
    "    X_train_nmf = np.matmul(X_train_nmf, H)\n",
    "#     print(X_train_svd)\n",
    "    mse_train = ((X_train.toarray() - X_train_nmf)**2).mean(axis=None)\n",
    "    X_test_nmf = nmf.transform(X_test)\n",
    "    X_test_nmf = np.matmul(X_test_nmf, H)\n",
    "    mse_test = ((X_test.toarray() - X_test_nmf)**2).mean(axis=None)\n",
    "    print(mse_train, mse_test)\n",
    "    "
   ]
  },
  {
   "cell_type": "code",
   "execution_count": 257,
   "id": "74452402",
   "metadata": {},
   "outputs": [],
   "source": [
    "# svd = TruncatedSVD(n_components=50, n_iter = 20, random_state=42)\n",
    "# X_train_svd = svd.fit_transform(X_train_tfidf)\n",
    "# VT = svd.components_\n",
    "# X_train_svd = np.matmul(X_train_svd, VT)"
   ]
  },
  {
   "cell_type": "code",
   "execution_count": 258,
   "id": "f5c4c1fd",
   "metadata": {},
   "outputs": [
    {
     "name": "stdout",
     "output_type": "stream",
     "text": [
      "7.585568825839525e-05 7.729591315198667e-05\n"
     ]
    }
   ],
   "source": [
    "get_SVD_residual_MSE(X_train_tfidf, X_test_tfidf)"
   ]
  },
  {
   "cell_type": "code",
   "execution_count": 259,
   "id": "5941e8f3",
   "metadata": {},
   "outputs": [
    {
     "name": "stdout",
     "output_type": "stream",
     "text": [
      "7.740124417013825e-05 7.834903942213096e-05\n"
     ]
    }
   ],
   "source": [
    "get_NMF_residual_MSE(X_train_tfidf, X_test_tfidf)"
   ]
  },
  {
   "cell_type": "markdown",
   "id": "798992b7",
   "metadata": {},
   "source": [
    "NMF has larger error compared to SVD. This is because ....."
   ]
  },
  {
   "cell_type": "markdown",
   "id": "6f23abe3",
   "metadata": {},
   "source": [
    "#### 1.4 Classification algorithms"
   ]
  },
  {
   "cell_type": "code",
   "execution_count": 268,
   "id": "a77970ee",
   "metadata": {},
   "outputs": [],
   "source": [
    "from sklearn.pipeline import Pipeline\n",
    "from sklearn.linear_model import LogisticRegression\n",
    "from sklearn.metrics import confusion_matrix, roc_curve, auc\n",
    "from sklearn.metrics import precision_score, recall_score, accuracy_score, f1_score\n",
    "from sklearn.preprocessing import LabelEncoder, StandardScaler\n"
   ]
  },
  {
   "cell_type": "code",
   "execution_count": 262,
   "id": "b56af796",
   "metadata": {},
   "outputs": [],
   "source": [
    "def plot_roc(fpr, tpr):\n",
    "    fig, ax = plt.subplots()\n",
    "\n",
    "    roc_auc = auc(fpr,tpr)\n",
    "\n",
    "    ax.plot(fpr, tpr, lw=2, label= 'area under curve = %0.4f' % roc_auc)\n",
    "\n",
    "    ax.grid(color='0.7', linestyle='--', linewidth=1)\n",
    "\n",
    "    ax.set_xlim([-0.1, 1.1])\n",
    "    ax.set_ylim([0.0, 1.05])\n",
    "    ax.set_xlabel('False Positive Rate',fontsize=15)\n",
    "    ax.set_ylabel('True Positive Rate',fontsize=15)\n",
    "\n",
    "    ax.legend(loc=\"lower right\")\n",
    "\n",
    "    for label in ax.get_xticklabels()+ax.get_yticklabels():\n",
    "        label.set_fontsize(15)\n",
    "\n",
    "def fit_predict_and_plot_roc(pipe, train_data, train_label, test_data, test_label):\n",
    "    pipe.fit(train_data, train_label)\n",
    "    # pipeline1.predict(twenty_test.data)\n",
    "\n",
    "    prob_score = pipe.predict_proba(test_data)\n",
    "\n",
    "    fpr, tpr, _ = roc_curve(test_label, prob_score[:,1])\n",
    "\n",
    "    plot_roc(fpr, tpr)\n",
    "    return pipe"
   ]
  },
  {
   "cell_type": "code",
   "execution_count": 263,
   "id": "4690cecb",
   "metadata": {},
   "outputs": [],
   "source": [
    "## svm"
   ]
  },
  {
   "cell_type": "code",
   "execution_count": 274,
   "id": "96d30a22",
   "metadata": {},
   "outputs": [
    {
     "name": "stderr",
     "output_type": "stream",
     "text": [
      "/Users/reemakumari/.conda/envs/kaggle/lib/python3.8/site-packages/sklearn/linear_model/_logistic.py:763: ConvergenceWarning: lbfgs failed to converge (status=1):\n",
      "STOP: TOTAL NO. of ITERATIONS REACHED LIMIT.\n",
      "\n",
      "Increase the number of iterations (max_iter) or scale the data as shown in:\n",
      "    https://scikit-learn.org/stable/modules/preprocessing.html\n",
      "Please also refer to the documentation for alternative solver options:\n",
      "    https://scikit-learn.org/stable/modules/linear_model.html#logistic-regression\n",
      "  n_iter_i = _check_optimize_result(\n"
     ]
    }
   ],
   "source": [
    "## logistic regression\n",
    "# plot the ROC\n",
    "# curve and report the confusion matrix and calculate the accuracy, recall precision and F-1\n",
    "# score of this classifier on the testing set.\n",
    "## 1000 features has 92% explained variance\n",
    "\n",
    "k = 50\n",
    "\n",
    "## train the model\n",
    "\n",
    "## define model\n",
    "count_vectorizer = CountVectorizer(min_df=3, stop_words='english', analyzer=doc_tokens, max_df=0.7)\n",
    "transformer = TfidfTransformer()\n",
    "svd = TruncatedSVD(n_components=k, n_iter = 20, random_state=42)\n",
    "clf = LogisticRegression(penalty = 'none', random_state=42)\n",
    "label_encoder = LabelEncoder()\n",
    "\n",
    "## train model\n",
    "y_train = label_encoder.fit_transform(train['root_label'])\n",
    "# print(y_train)\n",
    "X_train_counts = count_vectorizer.fit_transform(train['full_text'])\n",
    "X_train_tfidf = transformer.fit_transform(X_train_counts)\n",
    "X_train_svd = svd.fit_transform(X_train_tfidf)\n",
    "model = clf.fit(X_train_svd, y_train)\n",
    "\n",
    "## get train parameters\n",
    "\n",
    "## test model\n",
    "y_test = label_encoder.transform(test['root_label'])\n",
    "X_test_counts = count_vectorizer.transform(test['full_text'])\n",
    "X_test_tfidf = transformer.transform(X_test_counts)\n",
    "X_test_svd = svd.transform(X_test_tfidf)\n",
    "y_test_pred = clf.predict(X_test_svd)\n",
    "\n",
    "\n",
    "\n"
   ]
  },
  {
   "cell_type": "code",
   "execution_count": 275,
   "id": "cce6a4ce",
   "metadata": {},
   "outputs": [
    {
     "name": "stdout",
     "output_type": "stream",
     "text": [
      "--------------------\n",
      "Confusion matrix on test set is: \n",
      "[[198   8]\n",
      " [  3 206]]\n",
      "--------------------\n",
      "--------------------\n",
      "Performance metrics on test set is: \n",
      "Precision is:  0.9626168224299065\n",
      "Recall is:  0.9856459330143541\n",
      "Accuracy is:  0.9734939759036144\n",
      "F1 score is:  0.9739952718676123\n",
      "--------------------\n",
      "--------------------\n",
      "ROC curve on test set is: \n"
     ]
    },
    {
     "data": {
      "image/png": "[encoded data removed]",
      "text/plain": [
       "<Figure size 432x288 with 1 Axes>"
      ]
     },
     "metadata": {
      "needs_background": "light"
     },
     "output_type": "display_data"
    }
   ],
   "source": [
    "## get test parameters\n",
    "print('-'*20)\n",
    "print(\"Confusion matrix on test set is: \")\n",
    "print(confusion_matrix(y_test, y_test_pred))\n",
    "print('-'*20)\n",
    "print('-'*20)\n",
    "print(\"Performance metrics on test set is: \")\n",
    "print (\"Precision is: \", precision_score(y_test, y_test_pred))\n",
    "print (\"Recall is: \", recall_score(y_test, y_test_pred))\n",
    "print (\"Accuracy is: \", accuracy_score(y_test, y_test_pred))\n",
    "print (\"F1 score is: \", f1_score(y_test, y_test_pred))\n",
    "print('-'*20)\n",
    "\n",
    "print('-'*20)\n",
    "print(\"ROC curve on test set is: \")\n",
    "y_test_pred_proba = clf.predict_proba(X_test_svd)[::,1]\n",
    "fpr, tpr, _ = roc_curve(y_test,  y_test_pred_proba)\n",
    "\n",
    "#create ROC curve\n",
    "plt.plot(fpr,tpr)\n",
    "plt.ylabel('True Positive Rate')\n",
    "plt.xlabel('False Positive Rate')\n",
    "plt.show()"
   ]
  },
  {
   "cell_type": "code",
   "execution_count": null,
   "id": "07ab808b",
   "metadata": {},
   "outputs": [],
   "source": [
    "## Logistic regression with cross validation and L1 regularisation\n",
    "from sklearn.model_selection import KFold \n",
    "\n",
    "#Implementing cross validation\n",
    " \n",
    "k = 5\n",
    "kf = KFold(n_splits=k, random_state=None)\n",
    "model = LogisticRegression(solver= 'liblinear')\n",
    " \n",
    "acc_score = []\n",
    " \n",
    "for train_index , test_index in kf.split(X):\n",
    "    X_train , X_test = X.iloc[train_index,:],X.iloc[test_index,:]\n",
    "    y_train , y_test = y[train_index] , y[test_index]\n",
    "     \n",
    "    model.fit(X_train,y_train)\n",
    "    pred_values = model.predict(X_test)\n",
    "     \n",
    "    acc = accuracy_score(pred_values , y_test)\n",
    "    acc_score.append(acc)\n",
    "     \n",
    "avg_acc_score = sum(acc_score)/k\n",
    " \n",
    "print('accuracy of each fold - {}'.format(acc_score))\n",
    "print('Avg accuracy : {}'.format(avg_acc_score))"
   ]
  },
  {
   "cell_type": "code",
   "execution_count": null,
   "id": "4dac80cb",
   "metadata": {},
   "outputs": [],
   "source": [
    "## Logistic regression with cross validation and L2 regularisation"
   ]
  },
  {
   "cell_type": "code",
   "execution_count": 267,
   "id": "a7a2c740",
   "metadata": {},
   "outputs": [
    {
     "data": {
      "text/plain": [
       "0.9765258215962441"
      ]
     },
     "execution_count": 267,
     "metadata": {},
     "output_type": "execute_result"
    }
   ],
   "source": [
    "precision_score(y_test, y_test_pred)"
   ]
  },
  {
   "cell_type": "code",
   "execution_count": null,
   "id": "d77d5415",
   "metadata": {},
   "outputs": [],
   "source": [
    "from sklearn.preprocessing import LabelEncoder, StandardScaler\n",
    "\n",
    "Y = label_encoder.fit_transform(y_train)\n",
    "X = StandardScaler().fit_transform(X_train_tfidf_dense)"
   ]
  },
  {
   "cell_type": "code",
   "execution_count": null,
   "id": "db1dcf6d",
   "metadata": {},
   "outputs": [],
   "source": []
  },
  {
   "cell_type": "markdown",
   "id": "3d960334",
   "metadata": {},
   "source": [
    "### Word Embeddings"
   ]
  },
  {
   "cell_type": "markdown",
   "id": "cde1ff9e",
   "metadata": {},
   "source": [
    "GLoVE embeddings - Global vectors for word representation"
   ]
  },
  {
   "cell_type": "markdown",
   "id": "12d13ae2",
   "metadata": {},
   "source": [
    "#### Question 10"
   ]
  },
  {
   "cell_type": "markdown",
   "id": "fa4ce078",
   "metadata": {},
   "source": [
    "Q10 a. Why are GLoVE embeddings trained on the ratio of co-occurrence probabilities rather than\n",
    "the probabilities themselves?\n",
    "\n"
   ]
  },
  {
   "cell_type": "code",
   "execution_count": null,
   "id": "5b205d94",
   "metadata": {},
   "outputs": [],
   "source": []
  },
  {
   "cell_type": "markdown",
   "id": "cfc2d06c",
   "metadata": {},
   "source": [
    "Q10 b. In the two sentences: “James is running in the park.” and “James is running for the\n",
    "presidency.”, would GLoVE embeddings return the same vector for the word running in both\n",
    "cases? Why or why not?"
   ]
  },
  {
   "cell_type": "markdown",
   "id": "fdc2a2fb",
   "metadata": {},
   "source": [
    "Q10 c. What do you expect for the values of,\n",
    "||GLoVE[\"queen\"] - GLoVE[\"king\"] - GLoVE[\"wife\"] + GLoVE[\"husband\"]||2,\n",
    "||GLoVE[\"queen\"] - GLoVE[\"king\"]||2 and ||GLoVE[\"wife\"] - GLoVE[\"husband\"]||2 ?\n",
    "Compare these values."
   ]
  },
  {
   "cell_type": "markdown",
   "id": "cf87786f",
   "metadata": {},
   "source": [
    "Q10 d. Given a word, would you rather stem or lemmatize the word before mapping it to its GLoVE\n",
    "embedding?"
   ]
  },
  {
   "cell_type": "code",
   "execution_count": null,
   "id": "0d8591bd",
   "metadata": {},
   "outputs": [],
   "source": [
    "embeddings_dict = {}\n",
    "dimension_of_glove = 300\n",
    "with open(\"glove/glove.6B.300d.txt\", 'r') as f:\n",
    "    for line in f:\n",
    "        values = line.split()\n",
    "        word = values[0]\n",
    "        vector = np.asarray(values[1:], \"float32\")\n",
    "        embeddings_dict[word] = vector"
   ]
  },
  {
   "cell_type": "code",
   "execution_count": null,
   "id": "b31a1ea0",
   "metadata": {},
   "outputs": [],
   "source": []
  },
  {
   "cell_type": "code",
   "execution_count": null,
   "id": "95d56389",
   "metadata": {},
   "outputs": [],
   "source": [
    "## logistic regression\n",
    "# plot the ROC\n",
    "# curve and report the confusion matrix and calculate the accuracy, recall precision and F-1\n",
    "# score of this classifier on the testing set.\n",
    "## 1000 features has 92% explained variance\n",
    "\n",
    "clf = LogisticRegression(penalty = 'none')\n",
    "\n",
    "## train the model\n",
    "CountVectorizer(min_df=3, stop_words='english', analyzer=doc_tokens, max_df=0.7)\n",
    "\n",
    "pipeline1 = Pipeline([\n",
    "    ('vect', CountVectorizer(min_df=3, stop_words='english', analyzer=doc_tokens, max_df=0.7)),\n",
    "    ('tfidf', TfidfTransformer()),\n",
    "    ('reduce_dim', TruncatedSVD(n_components=1000, n_iter = 20, random_state=42)),\n",
    "    ('clf', clf),\n",
    "])\n"
   ]
  },
  {
   "cell_type": "code",
   "execution_count": null,
   "id": "00ae1293",
   "metadata": {},
   "outputs": [],
   "source": []
  },
  {
   "cell_type": "code",
   "execution_count": null,
   "id": "e4ed71d0",
   "metadata": {},
   "outputs": [],
   "source": [
    "fit_predict_and_plot_roc(pipeline1, twenty_train.data, twenty_train.target, twenty_test.data, twenty_test.target)"
   ]
  },
  {
   "cell_type": "code",
   "execution_count": null,
   "id": "cb4899d3",
   "metadata": {},
   "outputs": [],
   "source": [
    "## Provide accuracy bla.. bla.. ---> on test\n",
    "## take test set -> get ordered list of labels for test set -> get predicted labels"
   ]
  },
  {
   "cell_type": "code",
   "execution_count": null,
   "id": "d6f3d563",
   "metadata": {},
   "outputs": [],
   "source": []
  },
  {
   "cell_type": "code",
   "execution_count": null,
   "id": "41bf03fe",
   "metadata": {},
   "outputs": [],
   "source": []
  },
  {
   "cell_type": "code",
   "execution_count": null,
   "id": "3f2b2123",
   "metadata": {},
   "outputs": [],
   "source": [
    "model = NMF(n_components=50, init='random', random_state=0)\n",
    "W_train = model.fit_transform(X_train_tfidf)"
   ]
  },
  {
   "cell_type": "code",
   "execution_count": 57,
   "id": "76b4dfc7",
   "metadata": {},
   "outputs": [],
   "source": [
    "def feature_extraction (data: pd.DataFrame()):\n",
    "    '''\n",
    "    Module for feature extraction\n",
    "    '''\n",
    "    \n",
    "    ## clean \n",
    "    data['clean_full_text'] = data['full_text'].apply(lambda x: clean(x))\n",
    "    \n",
    "    ## sentence level data\n",
    "    data['idx'] = range(1, len(data)+1)\n",
    "    sent_tokenize(sentence)\n",
    "    \n",
    "    \n",
    "    ## Bag of words\n",
    "    "
   ]
  },
  {
   "cell_type": "code",
   "execution_count": 58,
   "id": "47afe77c",
   "metadata": {},
   "outputs": [],
   "source": [
    "train['clean_full_text'] = train['full_text'].apply(lambda x: clean(x))\n",
    "train1 = getVectorizer(train, 'clean_full_text')  ## taking time; optimize this; taking even more time :P"
   ]
  },
  {
   "cell_type": "code",
   "execution_count": 59,
   "id": "e81e4121",
   "metadata": {},
   "outputs": [
    {
     "data": {
      "text/html": [
       "<div>\n",
       "<style scoped>\n",
       "    .dataframe tbody tr th:only-of-type {\n",
       "        vertical-align: middle;\n",
       "    }\n",
       "\n",
       "    .dataframe tbody tr th {\n",
       "        vertical-align: top;\n",
       "    }\n",
       "\n",
       "    .dataframe thead th {\n",
       "        text-align: right;\n",
       "    }\n",
       "</style>\n",
       "<table border=\"1\" class=\"dataframe\">\n",
       "  <thead>\n",
       "    <tr style=\"text-align: right;\">\n",
       "      <th></th>\n",
       "      <th>full_text</th>\n",
       "      <th>root_label</th>\n",
       "      <th>clean_full_text</th>\n",
       "      <th>doc_tokens</th>\n",
       "    </tr>\n",
       "  </thead>\n",
       "  <tbody>\n",
       "    <tr>\n",
       "      <th>1431</th>\n",
       "      <td>More than 1 million Washingtonians participate...</td>\n",
       "      <td>climate</td>\n",
       "      <td>More than 1 million Washingtonians participate...</td>\n",
       "      <td>million washingtonian participate `` great sha...</td>\n",
       "    </tr>\n",
       "    <tr>\n",
       "      <th>1567</th>\n",
       "      <td>A 4.7-magnitude earthquake rattled northwest S...</td>\n",
       "      <td>climate</td>\n",
       "      <td>A 4.7-magnitude earthquake rattled northwest S...</td>\n",
       "      <td>4.7-magnitude earthquake rattle northwest san ...</td>\n",
       "    </tr>\n",
       "    <tr>\n",
       "      <th>1044</th>\n",
       "      <td>More campgrounds are coming to the Auburn Stat...</td>\n",
       "      <td>climate</td>\n",
       "      <td>More campgrounds are coming to the Auburn Stat...</td>\n",
       "      <td>campground come auburn state recreation area c...</td>\n",
       "    </tr>\n",
       "    <tr>\n",
       "      <th>175</th>\n",
       "      <td>Retro gamers will be able to relive all the jo...</td>\n",
       "      <td>sports</td>\n",
       "      <td>Retro gamers will be able to relive all the jo...</td>\n",
       "      <td>retro gamers able relive joy classic zx spectr...</td>\n",
       "    </tr>\n",
       "    <tr>\n",
       "      <th>1610</th>\n",
       "      <td>SAN SIMEON, Calif. (KGTV) — An earthquake with...</td>\n",
       "      <td>climate</td>\n",
       "      <td>SAN SIMEON, Calif. (KGTV)  An earthquake with ...</td>\n",
       "      <td>san simeon calif. kgtv earthquake preliminary ...</td>\n",
       "    </tr>\n",
       "  </tbody>\n",
       "</table>\n",
       "</div>"
      ],
      "text/plain": [
       "                                              full_text root_label  \\\n",
       "1431  More than 1 million Washingtonians participate...    climate   \n",
       "1567  A 4.7-magnitude earthquake rattled northwest S...    climate   \n",
       "1044  More campgrounds are coming to the Auburn Stat...    climate   \n",
       "175   Retro gamers will be able to relive all the jo...     sports   \n",
       "1610  SAN SIMEON, Calif. (KGTV) — An earthquake with...    climate   \n",
       "\n",
       "                                        clean_full_text  \\\n",
       "1431  More than 1 million Washingtonians participate...   \n",
       "1567  A 4.7-magnitude earthquake rattled northwest S...   \n",
       "1044  More campgrounds are coming to the Auburn Stat...   \n",
       "175   Retro gamers will be able to relive all the jo...   \n",
       "1610  SAN SIMEON, Calif. (KGTV)  An earthquake with ...   \n",
       "\n",
       "                                             doc_tokens  \n",
       "1431  million washingtonian participate `` great sha...  \n",
       "1567  4.7-magnitude earthquake rattle northwest san ...  \n",
       "1044  campground come auburn state recreation area c...  \n",
       "175   retro gamers able relive joy classic zx spectr...  \n",
       "1610  san simeon calif. kgtv earthquake preliminary ...  "
      ]
     },
     "execution_count": 59,
     "metadata": {},
     "output_type": "execute_result"
    }
   ],
   "source": [
    "train1.head()"
   ]
  },
  {
   "cell_type": "code",
   "execution_count": 60,
   "id": "ead68fdf",
   "metadata": {},
   "outputs": [],
   "source": [
    "count_vect = CountVectorizer(stop_words='english', min_df=3, max_df=0.7)\n",
    "X_train_counts = count_vect.fit_transform(train1['doc_tokens'])"
   ]
  },
  {
   "cell_type": "code",
   "execution_count": 61,
   "id": "60870c98",
   "metadata": {},
   "outputs": [],
   "source": []
  },
  {
   "cell_type": "code",
   "execution_count": 62,
   "id": "00143c0a",
   "metadata": {},
   "outputs": [
    {
     "data": {
      "text/plain": [
       "<2072x11857 sparse matrix of type '<class 'numpy.int64'>'\n",
       "\twith 290270 stored elements in Compressed Sparse Row format>"
      ]
     },
     "execution_count": 62,
     "metadata": {},
     "output_type": "execute_result"
    }
   ],
   "source": [
    "X_train_counts"
   ]
  },
  {
   "cell_type": "code",
   "execution_count": 63,
   "id": "e1348fd7",
   "metadata": {},
   "outputs": [
    {
     "data": {
      "text/plain": [
       "(1657, 10437)"
      ]
     },
     "execution_count": 63,
     "metadata": {},
     "output_type": "execute_result"
    }
   ],
   "source": [
    "X_train_counts.shape"
   ]
  },
  {
   "cell_type": "code",
   "execution_count": 64,
   "id": "6c723d11",
   "metadata": {},
   "outputs": [],
   "source": [
    "m = count_vect.get_feature_names() # remove 00, 000, 00pm etc ...."
   ]
  },
  {
   "cell_type": "code",
   "execution_count": 66,
   "id": "ff72a7c2",
   "metadata": {},
   "outputs": [
    {
     "data": {
      "text/plain": [
       "<1657x10437 sparse matrix of type '<class 'numpy.float64'>'\n",
       "\twith 228389 stored elements in Compressed Sparse Row format>"
      ]
     },
     "execution_count": 66,
     "metadata": {},
     "output_type": "execute_result"
    }
   ],
   "source": [
    "X_train_tfidf"
   ]
  },
  {
   "cell_type": "code",
   "execution_count": 70,
   "id": "8ea8518a",
   "metadata": {},
   "outputs": [
    {
     "data": {
      "text/plain": [
       "<2072x11857 sparse matrix of type '<class 'numpy.int64'>'\n",
       "\twith 290270 stored elements in Compressed Sparse Row format>"
      ]
     },
     "execution_count": 70,
     "metadata": {},
     "output_type": "execute_result"
    }
   ],
   "source": [
    "X"
   ]
  },
  {
   "cell_type": "code",
   "execution_count": 71,
   "id": "2404dcc8",
   "metadata": {},
   "outputs": [],
   "source": [
    "## Latent semantic indexing   ## time taking step\n",
    "X_train_tfidf_dense = X_train_tfidf.toarray()\n",
    "U, D, VT = np.linalg.svd(X_train_tfidf_dense)"
   ]
  },
  {
   "cell_type": "code",
   "execution_count": 87,
   "id": "213aab37",
   "metadata": {},
   "outputs": [
    {
     "data": {
      "text/plain": [
       "(1657, 1657)"
      ]
     },
     "execution_count": 87,
     "metadata": {},
     "output_type": "execute_result"
    }
   ],
   "source": [
    "U.shape"
   ]
  },
  {
   "cell_type": "code",
   "execution_count": 73,
   "id": "75389e1d",
   "metadata": {},
   "outputs": [
    {
     "data": {
      "text/plain": [
       "array([7.74547709e+00, 5.68607470e+00, 5.46527789e+00, ...,\n",
       "       2.59877163e-16, 2.26683334e-16, 2.11355955e-16])"
      ]
     },
     "execution_count": 73,
     "metadata": {},
     "output_type": "execute_result"
    }
   ],
   "source": [
    "D"
   ]
  },
  {
   "cell_type": "code",
   "execution_count": 74,
   "id": "0139c403",
   "metadata": {},
   "outputs": [],
   "source": [
    "k = [1,10,50,100,200,500,1000,2000]"
   ]
  },
  {
   "cell_type": "code",
   "execution_count": null,
   "id": "9e64ff07",
   "metadata": {},
   "outputs": [],
   "source": [
    "# def plot_explained_variance (D, k : list):\n",
    "#     V = np.transpose(VT)\n",
    "#     explained_ratio = []\n",
    "#     for k_item in k:\n",
    "#         V_k = V[:,:k_item]\n",
    "#         X_reduced = np.dot(X,V_k)"
   ]
  },
  {
   "cell_type": "code",
   "execution_count": 79,
   "id": "2d74c7a9",
   "metadata": {},
   "outputs": [],
   "source": [
    "def plot_explained_variance (D, k : list):\n",
    "    explained_ratio = []\n",
    "    tot_variance = sum(D)\n",
    "    for k_item in k:\n",
    "        k_variance = sum(D[:k_item])\n",
    "        explained_ratio.append(k_variance/tot_variance)\n",
    "    return explained_ratio"
   ]
  },
  {
   "cell_type": "code",
   "execution_count": 80,
   "id": "a033df6d",
   "metadata": {},
   "outputs": [
    {
     "data": {
      "text/plain": [
       "array([7.74547709e+00, 5.68607470e+00, 5.46527789e+00, ...,\n",
       "       2.59877163e-16, 2.26683334e-16, 2.11355955e-16])"
      ]
     },
     "execution_count": 80,
     "metadata": {},
     "output_type": "execute_result"
    }
   ],
   "source": [
    "D"
   ]
  },
  {
   "cell_type": "code",
   "execution_count": 81,
   "id": "d6fdd039",
   "metadata": {},
   "outputs": [],
   "source": [
    "explained_ratio = plot_explained_variance(D, k)"
   ]
  },
  {
   "cell_type": "code",
   "execution_count": 82,
   "id": "9dcc8142",
   "metadata": {},
   "outputs": [
    {
     "data": {
      "text/plain": [
       "[0.005669073112476427,\n",
       " 0.03498980779191518,\n",
       " 0.10457871678150643,\n",
       " 0.16803688547192894,\n",
       " 0.2729904462545638,\n",
       " 0.5163760873481403,\n",
       " 0.8077311082875519,\n",
       " 1.0]"
      ]
     },
     "execution_count": 82,
     "metadata": {},
     "output_type": "execute_result"
    }
   ],
   "source": [
    "explained_ratio"
   ]
  },
  {
   "cell_type": "code",
   "execution_count": 86,
   "id": "04f65297",
   "metadata": {},
   "outputs": [
    {
     "data": {
      "text/plain": [
       "<AxesSubplot:>"
      ]
     },
     "execution_count": 86,
     "metadata": {},
     "output_type": "execute_result"
    },
    {
     "data": {
      "image/png": "[encoded data removed]",
      "text/plain": [
       "<Figure size 432x288 with 1 Axes>"
      ]
     },
     "metadata": {
      "needs_background": "light"
     },
     "output_type": "display_data"
    }
   ],
   "source": [
    "explained_ratio = pd.Series(explained_ratio)\n",
    "explained_ratio.plot()  ## should be concave; but is convex. check this"
   ]
  },
  {
   "cell_type": "code",
   "execution_count": 97,
   "id": "9c42fdf4",
   "metadata": {},
   "outputs": [],
   "source": [
    "from sklearn.decomposition import NMF\n",
    "def get_SVD_residual_MSE (X, k = 50):\n",
    "    U, D, VT = np.linalg.svd(X_train_tfidf_dense)\n",
    "    V = np.transpose(VT)\n",
    "    V_k = V[:,:k]\n",
    "    U_k = U[:,:k]\n",
    "    D_k = D[:k]\n",
    "    D_mat = np.diag(D_k)\n",
    "    X_reconstruct = np.dot(U_k, D_mat)\n",
    "    X_reconstruct1 = np.dot(X_reconstruct, np.transpose(V_k))\n",
    "    count = 0\n",
    "    squared_error = 0\n",
    "    for i in range(X.shape[0]):\n",
    "        for j in range(X.shape[1]):\n",
    "            squared_error = squared_error + ((X[i][j]-X_reconstruct1[i][j])**2)\n",
    "            count = count+1\n",
    "    mse = squared_error/count\n",
    "    return mse\n",
    "    \n",
    "    \n",
    "def get_NMF_residual_MSE (X, k= 50):\n",
    "    model = NMF(n_components=k, init='random', random_state=0)\n",
    "    W = model.fit_transform(X)\n",
    "    H = model.components_\n",
    "    X_fit = np.dot(W, H)\n",
    "    count = 0\n",
    "    squared_error = 0\n",
    "    for i in range(X.shape[0]):\n",
    "        for j in range(X.shape[1]):\n",
    "            squared_error = squared_error + ((X[i][j]-X_fit[i][j])**2)\n",
    "            count = count+1\n",
    "    mse = squared_error/count\n",
    "    return mse\n",
    "    "
   ]
  },
  {
   "cell_type": "code",
   "execution_count": 98,
   "id": "6626de60",
   "metadata": {},
   "outputs": [
    {
     "data": {
      "text/plain": [
       "6.838068686140206e-05"
      ]
     },
     "execution_count": 98,
     "metadata": {},
     "output_type": "execute_result"
    }
   ],
   "source": [
    "get_SVD_residual_MSE(X_train_tfidf_dense)  ## takes time"
   ]
  },
  {
   "cell_type": "code",
   "execution_count": 99,
   "id": "c851a283",
   "metadata": {},
   "outputs": [
    {
     "data": {
      "text/plain": [
       "(1657, 10437)"
      ]
     },
     "execution_count": 99,
     "metadata": {},
     "output_type": "execute_result"
    }
   ],
   "source": [
    "X_train_tfidf_dense.shape"
   ]
  },
  {
   "cell_type": "code",
   "execution_count": 100,
   "id": "8d4f1984",
   "metadata": {},
   "outputs": [
    {
     "data": {
      "text/plain": [
       "6.967606425571989e-05"
      ]
     },
     "execution_count": 100,
     "metadata": {},
     "output_type": "execute_result"
    }
   ],
   "source": [
    "get_NMF_residual_MSE(X_train_tfidf_dense)  ## takes time"
   ]
  },
  {
   "cell_type": "code",
   "execution_count": null,
   "id": "12ac1310",
   "metadata": {},
   "outputs": [],
   "source": [
    "## use root_label for binary classification"
   ]
  },
  {
   "cell_type": "code",
   "execution_count": 101,
   "id": "7a71c4dd",
   "metadata": {},
   "outputs": [],
   "source": [
    "y_train = train['root_label']"
   ]
  },
  {
   "cell_type": "code",
   "execution_count": 102,
   "id": "3bd3a84f",
   "metadata": {},
   "outputs": [
    {
     "data": {
      "text/plain": [
       "1431    climate\n",
       "1567    climate\n",
       "1044    climate\n",
       "175      sports\n",
       "1610    climate\n",
       "         ...   \n",
       "1638    climate\n",
       "1095    climate\n",
       "1130    climate\n",
       "1294    climate\n",
       "860      sports\n",
       "Name: root_label, Length: 1657, dtype: object"
      ]
     },
     "execution_count": 102,
     "metadata": {},
     "output_type": "execute_result"
    }
   ],
   "source": [
    "y_train"
   ]
  },
  {
   "cell_type": "code",
   "execution_count": 105,
   "id": "cddc5541",
   "metadata": {},
   "outputs": [],
   "source": [
    "from sklearn.preprocessing import LabelEncoder, StandardScaler\n",
    "label_encoder = LabelEncoder()\n",
    "Y = label_encoder.fit_transform(y_train)\n",
    "X = StandardScaler().fit_transform(X_train_tfidf_dense)"
   ]
  },
  {
   "cell_type": "code",
   "execution_count": 106,
   "id": "85746f4d",
   "metadata": {},
   "outputs": [
    {
     "data": {
      "text/plain": [
       "SVC(C=10000000000.0, kernel='linear')"
      ]
     },
     "execution_count": 106,
     "metadata": {},
     "output_type": "execute_result"
    }
   ],
   "source": [
    "from sklearn.svm import SVC # \"Support vector classifier\"\n",
    "model = SVC(kernel = 'linear', C = 1E10)\n",
    "model.fit(X, Y)"
   ]
  },
  {
   "cell_type": "code",
   "execution_count": 107,
   "id": "7cefcdc3",
   "metadata": {},
   "outputs": [
    {
     "data": {
      "text/plain": [
       "0.9981894990947495"
      ]
     },
     "execution_count": 107,
     "metadata": {},
     "output_type": "execute_result"
    }
   ],
   "source": [
    "from sklearn.metrics import accuracy_score\n",
    "y_pred = model.predict(X)\n",
    "accuracy_score(Y, y_pred)"
   ]
  },
  {
   "cell_type": "code",
   "execution_count": 108,
   "id": "0679642c",
   "metadata": {},
   "outputs": [
    {
     "name": "stderr",
     "output_type": "stream",
     "text": [
      "/Users/reemakumari/.conda/envs/kaggle/lib/python3.8/site-packages/sklearn/linear_model/_logistic.py:763: ConvergenceWarning: lbfgs failed to converge (status=1):\n",
      "STOP: TOTAL NO. of ITERATIONS REACHED LIMIT.\n",
      "\n",
      "Increase the number of iterations (max_iter) or scale the data as shown in:\n",
      "    https://scikit-learn.org/stable/modules/preprocessing.html\n",
      "Please also refer to the documentation for alternative solver options:\n",
      "    https://scikit-learn.org/stable/modules/linear_model.html#logistic-regression\n",
      "  n_iter_i = _check_optimize_result(\n"
     ]
    },
    {
     "data": {
      "text/plain": [
       "0.9981894990947495"
      ]
     },
     "execution_count": 108,
     "metadata": {},
     "output_type": "execute_result"
    }
   ],
   "source": [
    "from sklearn.linear_model import LogisticRegression\n",
    "clf = LogisticRegression(random_state=0).fit(X, Y)\n",
    "y_pred = clf.predict(X)\n",
    "accuracy_score(Y, y_pred)"
   ]
  },
  {
   "cell_type": "code",
   "execution_count": 109,
   "id": "eb143b6b",
   "metadata": {},
   "outputs": [
    {
     "data": {
      "text/plain": [
       "0.995775497887749"
      ]
     },
     "execution_count": 109,
     "metadata": {},
     "output_type": "execute_result"
    }
   ],
   "source": [
    "from sklearn.naive_bayes import GaussianNB\n",
    "clf = GaussianNB()\n",
    "clf.fit(X, Y)\n",
    "y_pred = clf.predict(X)\n",
    "accuracy_score(Y, y_pred)"
   ]
  },
  {
   "cell_type": "code",
   "execution_count": null,
   "id": "b5594ec8",
   "metadata": {},
   "outputs": [],
   "source": []
  },
  {
   "cell_type": "code",
   "execution_count": null,
   "id": "bb3e7d5d",
   "metadata": {},
   "outputs": [],
   "source": []
  },
  {
   "cell_type": "code",
   "execution_count": null,
   "id": "1af6aeb6",
   "metadata": {},
   "outputs": [],
   "source": [
    "from sklearn.linear_model import LogisticRegression\n",
    "clf = LogisticRegression(random_state=0).fit(X, Y)\n",
    "y_pred = clf.predict(X)\n",
    "accuracy_score(Y, y_pred)"
   ]
  },
  {
   "cell_type": "code",
   "execution_count": 72,
   "id": "81bbfcc1",
   "metadata": {},
   "outputs": [
    {
     "data": {
      "text/plain": [
       "array([7.74547709e+00, 5.68607470e+00, 5.46527789e+00, ...,\n",
       "       2.59877163e-16, 2.26683334e-16, 2.11355955e-16])"
      ]
     },
     "execution_count": 72,
     "metadata": {},
     "output_type": "execute_result"
    }
   ],
   "source": [
    "D"
   ]
  },
  {
   "cell_type": "code",
   "execution_count": 68,
   "id": "71a92115",
   "metadata": {},
   "outputs": [
    {
     "ename": "AttributeError",
     "evalue": "'TfidfTransformer' object has no attribute 'get_feature_names'",
     "output_type": "error",
     "traceback": [
      "\u001b[0;31m---------------------------------------------------------------------------\u001b[0m",
      "\u001b[0;31mAttributeError\u001b[0m                            Traceback (most recent call last)",
      "\u001b[0;32m<ipython-input-68-cb2a571c0726>\u001b[0m in \u001b[0;36m<module>\u001b[0;34m\u001b[0m\n\u001b[0;32m----> 1\u001b[0;31m \u001b[0mtfidf_transformer\u001b[0m\u001b[0;34m.\u001b[0m\u001b[0mget_feature_names\u001b[0m\u001b[0;34m(\u001b[0m\u001b[0;34m)\u001b[0m\u001b[0;34m\u001b[0m\u001b[0;34m\u001b[0m\u001b[0m\n\u001b[0m",
      "\u001b[0;31mAttributeError\u001b[0m: 'TfidfTransformer' object has no attribute 'get_feature_names'"
     ]
    }
   ],
   "source": [
    "tfidf_transformer.get_feature_names()"
   ]
  },
  {
   "cell_type": "code",
   "execution_count": 65,
   "id": "c45729ba",
   "metadata": {},
   "outputs": [
    {
     "ename": "AttributeError",
     "evalue": "'list' object has no attribute 'to_csv'",
     "output_type": "error",
     "traceback": [
      "\u001b[0;31m---------------------------------------------------------------------------\u001b[0m",
      "\u001b[0;31mAttributeError\u001b[0m                            Traceback (most recent call last)",
      "\u001b[0;32m<ipython-input-65-8357bacaf820>\u001b[0m in \u001b[0;36m<module>\u001b[0;34m\u001b[0m\n\u001b[0;32m----> 1\u001b[0;31m \u001b[0mm\u001b[0m\u001b[0;34m.\u001b[0m\u001b[0mto_csv\u001b[0m\u001b[0;34m(\u001b[0m\u001b[0;34m'./m.csv'\u001b[0m\u001b[0;34m,\u001b[0m \u001b[0mindex\u001b[0m \u001b[0;34m=\u001b[0m \u001b[0;32mFalse\u001b[0m\u001b[0;34m)\u001b[0m\u001b[0;34m\u001b[0m\u001b[0;34m\u001b[0m\u001b[0m\n\u001b[0m",
      "\u001b[0;31mAttributeError\u001b[0m: 'list' object has no attribute 'to_csv'"
     ]
    }
   ],
   "source": [
    "m.to_csv('./m.csv', index = False)"
   ]
  },
  {
   "cell_type": "code",
   "execution_count": null,
   "id": "be5ef96f",
   "metadata": {},
   "outputs": [],
   "source": [
    "train1.to_csv('./train1.csv', index = False)"
   ]
  },
  {
   "cell_type": "code",
   "execution_count": null,
   "id": "4582868b",
   "metadata": {},
   "outputs": [],
   "source": []
  },
  {
   "cell_type": "code",
   "execution_count": null,
   "id": "a9a70ffd",
   "metadata": {},
   "outputs": [],
   "source": []
  },
  {
   "cell_type": "code",
   "execution_count": 24,
   "id": "2b8c4f19",
   "metadata": {},
   "outputs": [
    {
     "data": {
      "text/html": [
       "<div>\n",
       "<style scoped>\n",
       "    .dataframe tbody tr th:only-of-type {\n",
       "        vertical-align: middle;\n",
       "    }\n",
       "\n",
       "    .dataframe tbody tr th {\n",
       "        vertical-align: top;\n",
       "    }\n",
       "\n",
       "    .dataframe thead th {\n",
       "        text-align: right;\n",
       "    }\n",
       "</style>\n",
       "<table border=\"1\" class=\"dataframe\">\n",
       "  <thead>\n",
       "    <tr style=\"text-align: right;\">\n",
       "      <th></th>\n",
       "      <th>sentence</th>\n",
       "      <th>idx</th>\n",
       "    </tr>\n",
       "  </thead>\n",
       "  <tbody>\n",
       "    <tr>\n",
       "      <th>0</th>\n",
       "      <td>Having made a massive impact in Saudi Arabia w...</td>\n",
       "      <td>1</td>\n",
       "    </tr>\n",
       "    <tr>\n",
       "      <th>1</th>\n",
       "      <td>After a few hours, Ranveer was once again spot...</td>\n",
       "      <td>1</td>\n",
       "    </tr>\n",
       "    <tr>\n",
       "      <th>2</th>\n",
       "      <td>This time, when Ranveer showed up at the airpo...</td>\n",
       "      <td>1</td>\n",
       "    </tr>\n",
       "    <tr>\n",
       "      <th>3</th>\n",
       "      <td>The 83 star is already known for his offbeat a...</td>\n",
       "      <td>1</td>\n",
       "    </tr>\n",
       "    <tr>\n",
       "      <th>4</th>\n",
       "      <td>As Ranveer stepped out of his luxury vehicle, ...</td>\n",
       "      <td>1</td>\n",
       "    </tr>\n",
       "  </tbody>\n",
       "</table>\n",
       "</div>"
      ],
      "text/plain": [
       "                                            sentence  idx\n",
       "0  Having made a massive impact in Saudi Arabia w...    1\n",
       "1  After a few hours, Ranveer was once again spot...    1\n",
       "2  This time, when Ranveer showed up at the airpo...    1\n",
       "3  The 83 star is already known for his offbeat a...    1\n",
       "4  As Ranveer stepped out of his luxury vehicle, ...    1"
      ]
     },
     "execution_count": 24,
     "metadata": {},
     "output_type": "execute_result"
    }
   ],
   "source": [
    "df1.head()"
   ]
  },
  {
   "cell_type": "code",
   "execution_count": null,
   "id": "b698a550",
   "metadata": {},
   "outputs": [],
   "source": [
    "df1"
   ]
  },
  {
   "cell_type": "code",
   "execution_count": 12,
   "id": "c561a763",
   "metadata": {},
   "outputs": [
    {
     "data": {
      "text/plain": [
       "Index(['Unnamed: 0', 'full_text', 'summary', 'keywords', 'publish_date',\n",
       "       'authors', 'url', 'leaf_label', 'root_label', 'count'],\n",
       "      dtype='object')"
      ]
     },
     "execution_count": 12,
     "metadata": {},
     "output_type": "execute_result"
    }
   ],
   "source": [
    "df.columns"
   ]
  },
  {
   "cell_type": "code",
   "execution_count": 13,
   "id": "c8f543d8",
   "metadata": {},
   "outputs": [
    {
     "data": {
      "text/plain": [
       "\"Having made a massive impact in Saudi Arabia with his style and performance in 83, Ranveer Singh returned to Mumbai on Friday morning with Deepika Padukone. After a few hours, Ranveer was once again spotted at Mumbai airport as he was leaving the city. This time, when Ranveer showed up at the airport, his stylish look certainly grabbed all the attention. The 83 star is already known for his offbeat and unique sartorial choices and he proved it once again.\\n\\nAs Ranveer stepped out of his luxury vehicle, he left everyone in awe with his cool and comfy style. The paparazzi caught up with him and clicked him in the frame. In the photos, Ranveer is seen clad in a Drew House white hoodie with pants. But, what actually caught all the attention was his hot pink beanie matching his shoes. Ranveer slayed the hot pink shoes and beanie like a pro with a cool and comfy look. His yellow scarf and cool shades added another level of charm to the airport look.\\n\\nTake a look:\\n\\n© Provided by Pinkvilla\\n\\n© Provided by Pinkvilla\\n\\n© Provided by Pinkvilla\\n\\n© Provided by Pinkvilla\\n\\nEarlier, this week, Ranveer and Deepika had headed to Saudi Arabia for 83 promotions. They were joined by Kapil Dev, Romi Dev, Kabir Khan and Mini Mathur to attend the Red Sea International Film Festival. Photos from the events in Saudi Arabia showcases Ranveer's stylish and unique outfit choices.\\n\\nTalking about 83, the film stars Ranveer as legendary cricketer Kapil Dev. It showcases Team India's journey to winning the Cricket World Cup in 1983. It also stars Deepika Padukone in a pivotal role. It will release on December 24, 2021.\\n\\nAlso Read|83: Ranveer Singh features on Burj Khalifa, Deepika Padukone can't keep her eyes off of him\""
      ]
     },
     "execution_count": 13,
     "metadata": {},
     "output_type": "execute_result"
    }
   ],
   "source": [
    "df['full_text'][0]"
   ]
  },
  {
   "cell_type": "code",
   "execution_count": 16,
   "id": "5c1b4242",
   "metadata": {},
   "outputs": [],
   "source": [
    "a = clean(df['full_text'][0])"
   ]
  },
  {
   "cell_type": "code",
   "execution_count": 17,
   "id": "85f44b3f",
   "metadata": {},
   "outputs": [],
   "source": [
    "import nltk\n",
    "from nltk.tokenize import sent_tokenize"
   ]
  },
  {
   "cell_type": "code",
   "execution_count": 18,
   "id": "12f31682",
   "metadata": {},
   "outputs": [
    {
     "data": {
      "text/plain": [
       "['Having made a massive impact in Saudi Arabia with his style and performance in 83, Ranveer Singh returned to Mumbai on Friday morning with Deepika Padukone.',\n",
       " 'After a few hours, Ranveer was once again spotted at Mumbai airport as he was leaving the city.',\n",
       " 'This time, when Ranveer showed up at the airport, his stylish look certainly grabbed all the attention.',\n",
       " 'The 83 star is already known for his offbeat and unique sartorial choices and he proved it once again.',\n",
       " 'As Ranveer stepped out of his luxury vehicle, he left everyone in awe with his cool and comfy style.',\n",
       " 'The paparazzi caught up with him and clicked him in the frame.',\n",
       " 'In the photos, Ranveer is seen clad in a Drew House white hoodie with pants.',\n",
       " 'But, what actually caught all the attention was his hot pink beanie matching his shoes.',\n",
       " 'Ranveer slayed the hot pink shoes and beanie like a pro with a cool and comfy look.',\n",
       " 'His yellow scarf and cool shades added another level of charm to the airport look.',\n",
       " 'Take a look:  Provided by Pinkvilla  Provided by Pinkvilla  Provided by Pinkvilla  Provided by Pinkvilla Earlier, this week, Ranveer and Deepika had headed to Saudi Arabia for 83 promotions.',\n",
       " 'They were joined by Kapil Dev, Romi Dev, Kabir Khan and Mini Mathur to attend the Red Sea International Film Festival.',\n",
       " \"Photos from the events in Saudi Arabia showcases Ranveer's stylish and unique outfit choices.\",\n",
       " 'Talking about 83, the film stars Ranveer as legendary cricketer Kapil Dev.',\n",
       " \"It showcases Team India's journey to winning the Cricket World Cup in 1983.\",\n",
       " 'It also stars Deepika Padukone in a pivotal role.',\n",
       " 'It will release on December 24, 2021.',\n",
       " \"Also Read|83: Ranveer Singh features on Burj Khalifa, Deepika Padukone can't keep her eyes off of him\"]"
      ]
     },
     "execution_count": 18,
     "metadata": {},
     "output_type": "execute_result"
    }
   ],
   "source": [
    "sent_tokenize(a)"
   ]
  },
  {
   "cell_type": "code",
   "execution_count": 20,
   "id": "bfa9a798",
   "metadata": {},
   "outputs": [
    {
     "ename": "ValueError",
     "evalue": "too many values to unpack (expected 2)",
     "output_type": "error",
     "traceback": [
      "\u001b[0;31m---------------------------------------------------------------------------\u001b[0m",
      "\u001b[0;31mValueError\u001b[0m                                Traceback (most recent call last)",
      "\u001b[0;32m<ipython-input-20-7e90a2da2608>\u001b[0m in \u001b[0;36m<module>\u001b[0;34m\u001b[0m\n\u001b[0;32m----> 1\u001b[0;31m \u001b[0;32mfor\u001b[0m \u001b[0mrow\u001b[0m\u001b[0;34m,\u001b[0m\u001b[0mindex\u001b[0m \u001b[0;32min\u001b[0m \u001b[0mdf\u001b[0m\u001b[0;34m:\u001b[0m\u001b[0;34m\u001b[0m\u001b[0;34m\u001b[0m\u001b[0m\n\u001b[0m\u001b[1;32m      2\u001b[0m     \u001b[0mprint\u001b[0m\u001b[0;34m(\u001b[0m\u001b[0mrow\u001b[0m\u001b[0;34m[\u001b[0m\u001b[0;34m'full_text'\u001b[0m\u001b[0;34m]\u001b[0m\u001b[0;34m)\u001b[0m\u001b[0;34m\u001b[0m\u001b[0;34m\u001b[0m\u001b[0m\n\u001b[1;32m      3\u001b[0m \u001b[0;34m\u001b[0m\u001b[0m\n",
      "\u001b[0;31mValueError\u001b[0m: too many values to unpack (expected 2)"
     ]
    }
   ],
   "source": [
    "for row,index in df:\n",
    "    print(row['full_text'])\n",
    "    "
   ]
  },
  {
   "cell_type": "code",
   "execution_count": null,
   "id": "fb31cf65",
   "metadata": {},
   "outputs": [],
   "source": [
    "def latent_semantic_indexing (X):\n",
    "    X_dense = X.toarray()\n",
    "    U, D, VT = np.linalg.svd(X_dense)"
   ]
  }
 ],
 "metadata": {
  "kernelspec": {
   "display_name": "Python 3",
   "language": "python",
   "name": "python3"
  },
  "language_info": {
   "codemirror_mode": {
    "name": "ipython",
    "version": 3
   },
   "file_extension": ".py",
   "mimetype": "text/x-python",
   "name": "python",
   "nbconvert_exporter": "python",
   "pygments_lexer": "ipython3",
   "version": "3.8.5"
  }
 },
 "nbformat": 4,
 "nbformat_minor": 5
}
